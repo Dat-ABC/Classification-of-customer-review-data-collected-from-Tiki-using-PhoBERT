{
 "cells": [
  {
   "cell_type": "code",
   "execution_count": 1,
   "metadata": {},
   "outputs": [
    {
     "name": "stderr",
     "output_type": "stream",
     "text": [
      "/Users/nguyendat/miniconda3/envs/base_2/lib/python3.11/site-packages/tqdm/auto.py:21: TqdmWarning: IProgress not found. Please update jupyter and ipywidgets. See https://ipywidgets.readthedocs.io/en/stable/user_install.html\n",
      "  from .autonotebook import tqdm as notebook_tqdm\n"
     ]
    }
   ],
   "source": [
    "from preprocessing.preprocessing_2 import *\n",
    "import pandas as pd\n",
    "import numpy as np\n",
    "import os\n",
    "import matplotlib.pyplot as plt\n",
    "from sklearn.model_selection import train_test_split\n",
    "from text_augmentation.data_augmentation import *"
   ]
  },
  {
   "cell_type": "code",
   "execution_count": 2,
   "metadata": {},
   "outputs": [],
   "source": [
    "df = pd.read_csv(\"augmented_data.csv\")"
   ]
  },
  {
   "cell_type": "code",
   "execution_count": 3,
   "metadata": {},
   "outputs": [
    {
     "data": {
      "text/html": [
       "<div>\n",
       "<style scoped>\n",
       "    .dataframe tbody tr th:only-of-type {\n",
       "        vertical-align: middle;\n",
       "    }\n",
       "\n",
       "    .dataframe tbody tr th {\n",
       "        vertical-align: top;\n",
       "    }\n",
       "\n",
       "    .dataframe thead th {\n",
       "        text-align: right;\n",
       "    }\n",
       "</style>\n",
       "<table border=\"1\" class=\"dataframe\">\n",
       "  <thead>\n",
       "    <tr style=\"text-align: right;\">\n",
       "      <th></th>\n",
       "      <th>content</th>\n",
       "      <th>title</th>\n",
       "    </tr>\n",
       "  </thead>\n",
       "  <tbody>\n",
       "    <tr>\n",
       "      <th>97152</th>\n",
       "      <td>👍</td>\n",
       "      <td>Hài lòng</td>\n",
       "    </tr>\n",
       "  </tbody>\n",
       "</table>\n",
       "</div>"
      ],
      "text/plain": [
       "      content     title\n",
       "97152       👍  Hài lòng"
      ]
     },
     "execution_count": 3,
     "metadata": {},
     "output_type": "execute_result"
    }
   ],
   "source": [
    "df[df['content'].apply(len) == 1]"
   ]
  },
  {
   "cell_type": "code",
   "execution_count": 4,
   "metadata": {},
   "outputs": [],
   "source": [
    "df = df[df['content'].str.strip().apply(len) > 1]"
   ]
  },
  {
   "cell_type": "code",
   "execution_count": 5,
   "metadata": {},
   "outputs": [
    {
     "data": {
      "text/plain": [
       "(106191, 2)"
      ]
     },
     "execution_count": 5,
     "metadata": {},
     "output_type": "execute_result"
    }
   ],
   "source": [
    "df.shape"
   ]
  },
  {
   "cell_type": "code",
   "execution_count": 6,
   "metadata": {},
   "outputs": [
    {
     "data": {
      "text/plain": [
       "(94849, 2)"
      ]
     },
     "execution_count": 6,
     "metadata": {},
     "output_type": "execute_result"
    }
   ],
   "source": [
    "df = df.drop_duplicates(keep='first')\n",
    "df.shape"
   ]
  },
  {
   "cell_type": "code",
   "execution_count": 7,
   "metadata": {},
   "outputs": [],
   "source": [
    "df[\"cleaned\"] = df['content'].apply(lambda x: clean_text(x, remove_emoji=True))"
   ]
  },
  {
   "cell_type": "code",
   "execution_count": 8,
   "metadata": {},
   "outputs": [
    {
     "data": {
      "text/plain": [
       "(49, 4)"
      ]
     },
     "execution_count": 8,
     "metadata": {},
     "output_type": "execute_result"
    }
   ],
   "source": [
    "df['length'] = df['cleaned'].apply(lambda x: len(x.split()))\n",
    "df[df['length'] >= 100].shape"
   ]
  },
  {
   "cell_type": "code",
   "execution_count": 9,
   "metadata": {},
   "outputs": [],
   "source": [
    "# df = df[df['length'] < 100]"
   ]
  },
  {
   "cell_type": "code",
   "execution_count": 10,
   "metadata": {},
   "outputs": [
    {
     "data": {
      "text/html": [
       "<div>\n",
       "<style scoped>\n",
       "    .dataframe tbody tr th:only-of-type {\n",
       "        vertical-align: middle;\n",
       "    }\n",
       "\n",
       "    .dataframe tbody tr th {\n",
       "        vertical-align: top;\n",
       "    }\n",
       "\n",
       "    .dataframe thead th {\n",
       "        text-align: right;\n",
       "    }\n",
       "</style>\n",
       "<table border=\"1\" class=\"dataframe\">\n",
       "  <thead>\n",
       "    <tr style=\"text-align: right;\">\n",
       "      <th></th>\n",
       "      <th>content</th>\n",
       "      <th>title</th>\n",
       "      <th>cleaned</th>\n",
       "      <th>length</th>\n",
       "    </tr>\n",
       "  </thead>\n",
       "  <tbody>\n",
       "  </tbody>\n",
       "</table>\n",
       "</div>"
      ],
      "text/plain": [
       "Empty DataFrame\n",
       "Columns: [content, title, cleaned, length]\n",
       "Index: []"
      ]
     },
     "execution_count": 10,
     "metadata": {},
     "output_type": "execute_result"
    }
   ],
   "source": [
    "df[df['cleaned'].apply(len) == 1]"
   ]
  },
  {
   "cell_type": "code",
   "execution_count": 11,
   "metadata": {},
   "outputs": [
    {
     "data": {
      "text/html": [
       "<div>\n",
       "<style scoped>\n",
       "    .dataframe tbody tr th:only-of-type {\n",
       "        vertical-align: middle;\n",
       "    }\n",
       "\n",
       "    .dataframe tbody tr th {\n",
       "        vertical-align: top;\n",
       "    }\n",
       "\n",
       "    .dataframe thead th {\n",
       "        text-align: right;\n",
       "    }\n",
       "</style>\n",
       "<table border=\"1\" class=\"dataframe\">\n",
       "  <thead>\n",
       "    <tr style=\"text-align: right;\">\n",
       "      <th></th>\n",
       "      <th>content</th>\n",
       "      <th>title</th>\n",
       "      <th>cleaned</th>\n",
       "      <th>length</th>\n",
       "    </tr>\n",
       "  </thead>\n",
       "  <tbody>\n",
       "    <tr>\n",
       "      <th>1678</th>\n",
       "      <td>ha ha</td>\n",
       "      <td>Cực kì hài lòng</td>\n",
       "      <td></td>\n",
       "      <td>0</td>\n",
       "    </tr>\n",
       "    <tr>\n",
       "      <th>3574</th>\n",
       "      <td>fast</td>\n",
       "      <td>Cực kì hài lòng</td>\n",
       "      <td></td>\n",
       "      <td>0</td>\n",
       "    </tr>\n",
       "    <tr>\n",
       "      <th>5798</th>\n",
       "      <td>qetulnbfwsdg</td>\n",
       "      <td>Cực kì hài lòng</td>\n",
       "      <td></td>\n",
       "      <td>0</td>\n",
       "    </tr>\n",
       "    <tr>\n",
       "      <th>7326</th>\n",
       "      <td>hub</td>\n",
       "      <td>Cực kì hài lòng</td>\n",
       "      <td></td>\n",
       "      <td>0</td>\n",
       "    </tr>\n",
       "    <tr>\n",
       "      <th>8046</th>\n",
       "      <td>TDF</td>\n",
       "      <td>Hài lòng</td>\n",
       "      <td></td>\n",
       "      <td>0</td>\n",
       "    </tr>\n",
       "    <tr>\n",
       "      <th>...</th>\n",
       "      <td>...</td>\n",
       "      <td>...</td>\n",
       "      <td>...</td>\n",
       "      <td>...</td>\n",
       "    </tr>\n",
       "    <tr>\n",
       "      <th>100202</th>\n",
       "      <td>B NH</td>\n",
       "      <td>Không hài lòng</td>\n",
       "      <td></td>\n",
       "      <td>0</td>\n",
       "    </tr>\n",
       "    <tr>\n",
       "      <th>102763</th>\n",
       "      <td>KJDKSJFKDJ</td>\n",
       "      <td>Bình thường</td>\n",
       "      <td></td>\n",
       "      <td>0</td>\n",
       "    </tr>\n",
       "    <tr>\n",
       "      <th>102984</th>\n",
       "      <td>tmots</td>\n",
       "      <td>Cực kì hài lòng</td>\n",
       "      <td></td>\n",
       "      <td>0</td>\n",
       "    </tr>\n",
       "    <tr>\n",
       "      <th>102996</th>\n",
       "      <td>hejdfndj</td>\n",
       "      <td>Cực kì hài lòng</td>\n",
       "      <td></td>\n",
       "      <td>0</td>\n",
       "    </tr>\n",
       "    <tr>\n",
       "      <th>104504</th>\n",
       "      <td>bdhbdx</td>\n",
       "      <td>Cực kì hài lòng</td>\n",
       "      <td></td>\n",
       "      <td>0</td>\n",
       "    </tr>\n",
       "  </tbody>\n",
       "</table>\n",
       "<p>62 rows × 4 columns</p>\n",
       "</div>"
      ],
      "text/plain": [
       "             content            title cleaned  length\n",
       "1678           ha ha  Cực kì hài lòng               0\n",
       "3574            fast  Cực kì hài lòng               0\n",
       "5798    qetulnbfwsdg  Cực kì hài lòng               0\n",
       "7326             hub  Cực kì hài lòng               0\n",
       "8046             TDF         Hài lòng               0\n",
       "...              ...              ...     ...     ...\n",
       "100202          B NH   Không hài lòng               0\n",
       "102763    KJDKSJFKDJ      Bình thường               0\n",
       "102984         tmots  Cực kì hài lòng               0\n",
       "102996      hejdfndj  Cực kì hài lòng               0\n",
       "104504        bdhbdx  Cực kì hài lòng               0\n",
       "\n",
       "[62 rows x 4 columns]"
      ]
     },
     "execution_count": 11,
     "metadata": {},
     "output_type": "execute_result"
    }
   ],
   "source": [
    "df[df['cleaned'].apply(len) == 0]"
   ]
  },
  {
   "cell_type": "code",
   "execution_count": 12,
   "metadata": {},
   "outputs": [],
   "source": [
    "df = df[df[\"cleaned\"].apply(len) > 1]"
   ]
  },
  {
   "cell_type": "code",
   "execution_count": 13,
   "metadata": {},
   "outputs": [
    {
     "data": {
      "text/plain": [
       "(94787, 4)"
      ]
     },
     "execution_count": 13,
     "metadata": {},
     "output_type": "execute_result"
    }
   ],
   "source": [
    "df.shape"
   ]
  },
  {
   "cell_type": "code",
   "execution_count": 14,
   "metadata": {},
   "outputs": [
    {
     "data": {
      "text/html": [
       "<div>\n",
       "<style scoped>\n",
       "    .dataframe tbody tr th:only-of-type {\n",
       "        vertical-align: middle;\n",
       "    }\n",
       "\n",
       "    .dataframe tbody tr th {\n",
       "        vertical-align: top;\n",
       "    }\n",
       "\n",
       "    .dataframe thead th {\n",
       "        text-align: right;\n",
       "    }\n",
       "</style>\n",
       "<table border=\"1\" class=\"dataframe\">\n",
       "  <thead>\n",
       "    <tr style=\"text-align: right;\">\n",
       "      <th></th>\n",
       "      <th>content</th>\n",
       "      <th>title</th>\n",
       "      <th>cleaned</th>\n",
       "      <th>length</th>\n",
       "    </tr>\n",
       "  </thead>\n",
       "  <tbody>\n",
       "    <tr>\n",
       "      <th>0</th>\n",
       "      <td>Các sản phẩm lỗi mà quá trình trả lại rất khó ...</td>\n",
       "      <td>Rất không hài lòng</td>\n",
       "      <td>các sản phẩm lỗi mà quá trình trả lại rất khó ...</td>\n",
       "      <td>37</td>\n",
       "    </tr>\n",
       "    <tr>\n",
       "      <th>1</th>\n",
       "      <td>Các sản phẩm lỗi mà quá trình trả lại rất khó ...</td>\n",
       "      <td>Rất không hài lòng</td>\n",
       "      <td>các sản phẩm lỗi mà quá trình trả lại rất khó ...</td>\n",
       "      <td>40</td>\n",
       "    </tr>\n",
       "    <tr>\n",
       "      <th>2</th>\n",
       "      <td>hầu hết mọi thứ được chỉ là khi mở hàng tôi th...</td>\n",
       "      <td>Cực kì hài lòng</td>\n",
       "      <td>hầu hết mọi thứ được chỉ là khi mở hàng tôi th...</td>\n",
       "      <td>43</td>\n",
       "    </tr>\n",
       "    <tr>\n",
       "      <th>3</th>\n",
       "      <td>ồ màn hình đẹp chân đế chắc chắn không có gì đ...</td>\n",
       "      <td>Cực kì hài lòng</td>\n",
       "      <td>ồ màn hình đẹp chân đế chắc chắn không có gì đ...</td>\n",
       "      <td>22</td>\n",
       "    </tr>\n",
       "    <tr>\n",
       "      <th>4</th>\n",
       "      <td>mọi thứ điều được nhưng do bên nhận vận chuyển...</td>\n",
       "      <td>Cực kì hài lòng</td>\n",
       "      <td>mọi thứ điều được nhưng do bên nhận vận chuyển...</td>\n",
       "      <td>18</td>\n",
       "    </tr>\n",
       "    <tr>\n",
       "      <th>...</th>\n",
       "      <td>...</td>\n",
       "      <td>...</td>\n",
       "      <td>...</td>\n",
       "      <td>...</td>\n",
       "    </tr>\n",
       "    <tr>\n",
       "      <th>106185</th>\n",
       "      <td>Trái ngược với công ty quảng cáo</td>\n",
       "      <td>Không hài lòng</td>\n",
       "      <td>trái ngược với công quảng cáo</td>\n",
       "      <td>6</td>\n",
       "    </tr>\n",
       "    <tr>\n",
       "      <th>106187</th>\n",
       "      <td>Sản phẩm được sử dụng sau nhiều tuần chỉ bị hỏ...</td>\n",
       "      <td>Rất không hài lòng</td>\n",
       "      <td>sản phẩm được sử dụng sau nhiều tuần chỉ bị hỏ...</td>\n",
       "      <td>13</td>\n",
       "    </tr>\n",
       "    <tr>\n",
       "      <th>106188</th>\n",
       "      <td>Các sản phẩm được sử dụng sau nhiều tuần đã bị...</td>\n",
       "      <td>Rất không hài lòng</td>\n",
       "      <td>các sản phẩm được sử dụng sau nhiều tuần đã bị...</td>\n",
       "      <td>14</td>\n",
       "    </tr>\n",
       "    <tr>\n",
       "      <th>106189</th>\n",
       "      <td>Tiếng vang không ổn định</td>\n",
       "      <td>Rất không hài lòng</td>\n",
       "      <td>tiếng vang không ổn định</td>\n",
       "      <td>5</td>\n",
       "    </tr>\n",
       "    <tr>\n",
       "      <th>106191</th>\n",
       "      <td>Không sao nhưng khi tiếng còi bị bẩn, rất khó ...</td>\n",
       "      <td>Hài lòng</td>\n",
       "      <td>không sao nhưng khi tiếng còi bị bẩn rất khó đ...</td>\n",
       "      <td>13</td>\n",
       "    </tr>\n",
       "  </tbody>\n",
       "</table>\n",
       "<p>94787 rows × 4 columns</p>\n",
       "</div>"
      ],
      "text/plain": [
       "                                                  content               title  \\\n",
       "0       Các sản phẩm lỗi mà quá trình trả lại rất khó ...  Rất không hài lòng   \n",
       "1       Các sản phẩm lỗi mà quá trình trả lại rất khó ...  Rất không hài lòng   \n",
       "2       hầu hết mọi thứ được chỉ là khi mở hàng tôi th...     Cực kì hài lòng   \n",
       "3       ồ màn hình đẹp chân đế chắc chắn không có gì đ...     Cực kì hài lòng   \n",
       "4       mọi thứ điều được nhưng do bên nhận vận chuyển...     Cực kì hài lòng   \n",
       "...                                                   ...                 ...   \n",
       "106185                   Trái ngược với công ty quảng cáo      Không hài lòng   \n",
       "106187  Sản phẩm được sử dụng sau nhiều tuần chỉ bị hỏ...  Rất không hài lòng   \n",
       "106188  Các sản phẩm được sử dụng sau nhiều tuần đã bị...  Rất không hài lòng   \n",
       "106189                           Tiếng vang không ổn định  Rất không hài lòng   \n",
       "106191  Không sao nhưng khi tiếng còi bị bẩn, rất khó ...            Hài lòng   \n",
       "\n",
       "                                                  cleaned  length  \n",
       "0       các sản phẩm lỗi mà quá trình trả lại rất khó ...      37  \n",
       "1       các sản phẩm lỗi mà quá trình trả lại rất khó ...      40  \n",
       "2       hầu hết mọi thứ được chỉ là khi mở hàng tôi th...      43  \n",
       "3       ồ màn hình đẹp chân đế chắc chắn không có gì đ...      22  \n",
       "4       mọi thứ điều được nhưng do bên nhận vận chuyển...      18  \n",
       "...                                                   ...     ...  \n",
       "106185                      trái ngược với công quảng cáo       6  \n",
       "106187  sản phẩm được sử dụng sau nhiều tuần chỉ bị hỏ...      13  \n",
       "106188  các sản phẩm được sử dụng sau nhiều tuần đã bị...      14  \n",
       "106189                           tiếng vang không ổn định       5  \n",
       "106191  không sao nhưng khi tiếng còi bị bẩn rất khó đ...      13  \n",
       "\n",
       "[94787 rows x 4 columns]"
      ]
     },
     "execution_count": 14,
     "metadata": {},
     "output_type": "execute_result"
    }
   ],
   "source": [
    "df"
   ]
  },
  {
   "cell_type": "code",
   "execution_count": 15,
   "metadata": {},
   "outputs": [
    {
     "data": {
      "text/plain": [
       "title\n",
       "Cực kì hài lòng       48506\n",
       "Rất không hài lòng    13427\n",
       "Bình thường           12256\n",
       "Không hài lòng        11161\n",
       "Hài lòng               9437\n",
       "Name: count, dtype: int64"
      ]
     },
     "execution_count": 15,
     "metadata": {},
     "output_type": "execute_result"
    }
   ],
   "source": [
    "df['title'].value_counts()"
   ]
  },
  {
   "cell_type": "code",
   "execution_count": 16,
   "metadata": {},
   "outputs": [
    {
     "data": {
      "image/png": "[encoded data removed]",
      "text/plain": [
       "<Figure size 700x500 with 1 Axes>"
      ]
     },
     "metadata": {},
     "output_type": "display_data"
    }
   ],
   "source": [
    "tag_counts = df['title'].value_counts()\n",
    "plt.figure(figsize=(7, 5))\n",
    "tag_counts.plot(kind='bar', color='skyblue', edgecolor='black')\n",
    "plt.title('The number of sentences for each label (Title)', fontsize=16)\n",
    "plt.xlabel('Label (Title)', fontsize=14)\n",
    "plt.ylabel('Number', fontsize=14)\n",
    "plt.xticks(rotation=45, fontsize=12)\n",
    "plt.tight_layout()\n",
    "plt.show()"
   ]
  },
  {
   "cell_type": "code",
   "execution_count": 17,
   "metadata": {},
   "outputs": [
    {
     "name": "stdout",
     "output_type": "stream",
     "text": [
      "cleaned\n",
      "1       337\n",
      "2      1327\n",
      "3      2351\n",
      "4      3308\n",
      "5      4153\n",
      "       ... \n",
      "109       2\n",
      "118       1\n",
      "133       1\n",
      "139       1\n",
      "221       1\n",
      "Name: count, Length: 113, dtype: int64\n"
     ]
    },
    {
     "data": {
      "image/png": "[encoded data removed]",
      "text/plain": [
       "<Figure size 800x600 with 1 Axes>"
      ]
     },
     "metadata": {},
     "output_type": "display_data"
    }
   ],
   "source": [
    "# Calculate the number of words in each review\n",
    "word_counts = df['cleaned'].apply(lambda x: len(x.split()))\n",
    "\n",
    "# Distribution of word counts\n",
    "word_count_distribution = word_counts.value_counts().sort_index()\n",
    "\n",
    "# Display the distribution\n",
    "print(word_count_distribution)\n",
    "\n",
    "plt.figure(figsize=(8, 6))\n",
    "plt.hist(word_counts, bins=range(1, max(word_counts) + 2), edgecolor='black', alpha=0.75)\n",
    "plt.title(\"Distribution of Word Counts in Reviews\")\n",
    "plt.xlabel(\"Word Count\")\n",
    "plt.ylabel(\"Frequency\")\n",
    "plt.grid(axis='y', linestyle='--', alpha=0.7)\n",
    "plt.show()"
   ]
  },
  {
   "cell_type": "code",
   "execution_count": 18,
   "metadata": {},
   "outputs": [
    {
     "data": {
      "text/html": [
       "<div>\n",
       "<style scoped>\n",
       "    .dataframe tbody tr th:only-of-type {\n",
       "        vertical-align: middle;\n",
       "    }\n",
       "\n",
       "    .dataframe tbody tr th {\n",
       "        vertical-align: top;\n",
       "    }\n",
       "\n",
       "    .dataframe thead th {\n",
       "        text-align: right;\n",
       "    }\n",
       "</style>\n",
       "<table border=\"1\" class=\"dataframe\">\n",
       "  <thead>\n",
       "    <tr style=\"text-align: right;\">\n",
       "      <th></th>\n",
       "      <th>title</th>\n",
       "      <th>count</th>\n",
       "    </tr>\n",
       "  </thead>\n",
       "  <tbody>\n",
       "    <tr>\n",
       "      <th>0</th>\n",
       "      <td>Cực kì hài lòng</td>\n",
       "      <td>48506</td>\n",
       "    </tr>\n",
       "    <tr>\n",
       "      <th>1</th>\n",
       "      <td>Rất không hài lòng</td>\n",
       "      <td>13427</td>\n",
       "    </tr>\n",
       "    <tr>\n",
       "      <th>2</th>\n",
       "      <td>Bình thường</td>\n",
       "      <td>12256</td>\n",
       "    </tr>\n",
       "    <tr>\n",
       "      <th>3</th>\n",
       "      <td>Không hài lòng</td>\n",
       "      <td>11161</td>\n",
       "    </tr>\n",
       "    <tr>\n",
       "      <th>4</th>\n",
       "      <td>Hài lòng</td>\n",
       "      <td>9437</td>\n",
       "    </tr>\n",
       "  </tbody>\n",
       "</table>\n",
       "</div>"
      ],
      "text/plain": [
       "                title  count\n",
       "0     Cực kì hài lòng  48506\n",
       "1  Rất không hài lòng  13427\n",
       "2         Bình thường  12256\n",
       "3      Không hài lòng  11161\n",
       "4            Hài lòng   9437"
      ]
     },
     "execution_count": 18,
     "metadata": {},
     "output_type": "execute_result"
    }
   ],
   "source": [
    "df['title'].value_counts().reset_index()"
   ]
  },
  {
   "cell_type": "code",
   "execution_count": 19,
   "metadata": {},
   "outputs": [],
   "source": [
    "def calculate_sentence_length_coverage(df, column_name, coverage=0.90):\n",
    "    \"\"\"\n",
    "    Calculates the sentence length that covers a specified cumulative distribution of data.\n",
    "\n",
    "    Parameters:\n",
    "        df (pd.DataFrame): The input dataframe containing the data.\n",
    "        column_name (str): The column containing word count data.\n",
    "        coverage (float): The cumulative coverage (default is 0.90 for 90%).\n",
    "\n",
    "    Returns:\n",
    "        int: The maximum sentence length that covers up to the specified coverage.\n",
    "    \"\"\"\n",
    "    \n",
    "    word_count_distribution = word_counts.value_counts().sort_index()\n",
    "\n",
    "    total_sentences = df['cleaned'].shape[0]\n",
    "\n",
    "    cumulative_distribution = word_count_distribution.cumsum() / total_sentences\n",
    "    \n",
    "    sentence_length = cumulative_distribution[cumulative_distribution >= coverage].index[0]\n",
    "\n",
    "    return sentence_length"
   ]
  },
  {
   "cell_type": "code",
   "execution_count": 20,
   "metadata": {},
   "outputs": [],
   "source": [
    "def remove_diacritics_and_punctuation(text):\n",
    "    # Loại bỏ dấu thanh (diacritics)\n",
    "    text_no_diacritics = ''.join(\n",
    "        c for c in unicodedata.normalize('NFD', text)\n",
    "        if unicodedata.category(c) != 'Mn'\n",
    "    )\n",
    "    # Loại bỏ dấu câu\n",
    "    text_no_punctuation = re.sub(r'[^\\w\\s]', '', text_no_diacritics)\n",
    "    return text_no_punctuation\n"
   ]
  },
  {
   "cell_type": "code",
   "execution_count": 21,
   "metadata": {},
   "outputs": [],
   "source": [
    "df['removed_marks'] = df['cleaned'].apply(remove_diacritics_and_punctuation)"
   ]
  },
  {
   "cell_type": "code",
   "execution_count": 22,
   "metadata": {},
   "outputs": [],
   "source": [
    "maxlen = calculate_sentence_length_coverage(df, 'word_count', 0.95)"
   ]
  },
  {
   "cell_type": "code",
   "execution_count": 23,
   "metadata": {},
   "outputs": [
    {
     "data": {
      "text/plain": [
       "50"
      ]
     },
     "execution_count": 23,
     "metadata": {},
     "output_type": "execute_result"
    }
   ],
   "source": [
    "maxlen"
   ]
  },
  {
   "cell_type": "code",
   "execution_count": 24,
   "metadata": {},
   "outputs": [],
   "source": [
    "import torch\n",
    "import torch.nn as nn\n",
    "from torch.utils.data import Dataset, DataLoader\n",
    "from tokenizers import Tokenizer\n",
    "from transformers import BertTokenizer, AutoTokenizer\n",
    "from tokenizers.models import WordPiece\n",
    "from tokenizers.pre_tokenizers import Whitespace\n",
    "from tokenizers.trainers import WordPieceTrainer\n",
    "import os\n",
    "from pyvi import ViTokenizer"
   ]
  },
  {
   "cell_type": "code",
   "execution_count": 25,
   "metadata": {},
   "outputs": [],
   "source": [
    "from transformers import get_linear_schedule_with_warmup\n",
    "from transformers import AdamW\n",
    "from build_model.lstm import LSTM\n",
    "\n",
    "from torch.utils.tensorboard import SummaryWriter\n",
    "from trainer.trainer import *\n",
    "import shutil, pickle\n",
    "from gensim.utils import simple_preprocess"
   ]
  },
  {
   "cell_type": "code",
   "execution_count": 26,
   "metadata": {},
   "outputs": [],
   "source": [
    "# class CreatorTokenizer:\n",
    "#     def __init__(self, sentences, tokenizer_path=\"tokenizer.json\", vocab_size=8000, max_length=maxlen):\n",
    "#         \"\"\"\n",
    "#         Args:\n",
    "#             sentences (list of str): Danh sách các câu để huấn luyện tokenizer.\n",
    "#             tokenizer_path (str): Đường dẫn lưu tokenizer.\n",
    "#             vocab_size (int): Kích thước từ vựng tối đa.\n",
    "#             max_length (int): Độ dài tối đa của các chuỗi đầu ra (dùng cho padding và truncation).\n",
    "#         \"\"\"\n",
    "#         self.sentences = sentences\n",
    "#         self.tokenizer_path = tokenizer_path\n",
    "#         self.vocab_size = vocab_size\n",
    "#         self.max_length = max_length\n",
    "\n",
    "#         # Tạo file corpus tạm thời\n",
    "#         self.corpus_file = \"corpus.txt\"\n",
    "#         self._create_corpus_file()\n",
    "\n",
    "#     def _create_corpus_file(self):\n",
    "#         \"\"\"Ghi các câu vào file corpus.txt để dùng cho việc huấn luyện tokenizer.\"\"\"\n",
    "#         with open(self.corpus_file, \"w\", encoding=\"utf-8\") as f:\n",
    "#             for sentence in self.sentences:\n",
    "#                 f.write(sentence + \"\\n\")\n",
    "\n",
    "#     def create_tokenizer(self):\n",
    "#         \"\"\"Tạo tokenizer và lưu vào file JSON.\"\"\"\n",
    "#         tokenizer = Tokenizer(WordPiece(unk_token=\"[UNK]\"))\n",
    "#         tokenizer.pre_tokenizer = Whitespace()\n",
    "#         trainer = WordPieceTrainer(\n",
    "#             vocab_size=self.vocab_size,\n",
    "#             special_tokens=[\"[UNK]\", \"[CLS]\", \"[SEP]\", \"[PAD]\", \"[MASK]\"]\n",
    "#         )\n",
    "#         files = [self.corpus_file]\n",
    "#         tokenizer.train(files, trainer)\n",
    "#         tokenizer.save(self.tokenizer_path)\n",
    "#         os.remove(self.corpus_file)\n",
    "#         print(f\"Tokenizer saved to {self.tokenizer_path}\")\n",
    "\n",
    "#     def load_tokenizer(self):\n",
    "#         \"\"\"Tải tokenizer từ file JSON.\"\"\"\n",
    "#         if not os.path.exists(self.tokenizer_path):\n",
    "#             raise FileNotFoundError(f\"{self.tokenizer_path} not found. Please create the tokenizer first.\")\n",
    "#         return Tokenizer.from_file(self.tokenizer_path)\n",
    "\n",
    "#     def encode_sentences(self, sentences):\n",
    "#         \"\"\"\n",
    "#         Token hóa và xử lý padding/truncation các câu đầu vào.\n",
    "\n",
    "#         Args:\n",
    "#             sentences (list of str): Danh sách các câu cần token hóa.\n",
    "\n",
    "#         Returns:\n",
    "#             np.ndarray: Chuỗi các `input_ids` sau khi padding/truncation.\n",
    "#         \"\"\"\n",
    "#         tokenizer = self.load_tokenizer()\n",
    "\n",
    "#         encoded_sentences = []\n",
    "#         for sentence in sentences:\n",
    "#             encoding = tokenizer.encode(sentence)\n",
    "#             input_ids = encoding.ids\n",
    "\n",
    "#             if len(input_ids) > self.max_length:\n",
    "#                 input_ids = input_ids[:self.max_length]\n",
    "#             else:\n",
    "#                 input_ids = input_ids + [0] * (self.max_length - len(input_ids))\n",
    "\n",
    "#             encoded_sentences.append(input_ids)\n",
    "\n",
    "#         return np.array(encoded_sentences)"
   ]
  },
  {
   "cell_type": "code",
   "execution_count": 27,
   "metadata": {},
   "outputs": [],
   "source": [
    "# creator = CreatorTokenizer(df['cleaned'])\n",
    "# creator.create_tokenizer()"
   ]
  },
  {
   "cell_type": "code",
   "execution_count": 28,
   "metadata": {},
   "outputs": [],
   "source": [
    "# tokenizer = Tokenizer.from_file(\"tokenizer.json\")"
   ]
  },
  {
   "cell_type": "code",
   "execution_count": 29,
   "metadata": {},
   "outputs": [],
   "source": [
    "# tokenizer.get_vocab_size()"
   ]
  },
  {
   "cell_type": "code",
   "execution_count": 30,
   "metadata": {},
   "outputs": [],
   "source": [
    "# tokenizer_bert = BertTokenizer.from_pretrained('viet_bert_tokenizer', do_lower_case = False)"
   ]
  },
  {
   "cell_type": "code",
   "execution_count": 31,
   "metadata": {},
   "outputs": [],
   "source": [
    "tokenizer_phobert = AutoTokenizer.from_pretrained('vinai/phobert-base', use_fast = False)"
   ]
  },
  {
   "cell_type": "code",
   "execution_count": 32,
   "metadata": {},
   "outputs": [],
   "source": [
    "class CommentDataset(Dataset):\n",
    "    def __init__(self, df, tokenizer, is_train=True, max_len=maxlen, transform=None):\n",
    "        self.df = df\n",
    "        self.max_len = max_len\n",
    "        self.tokenizer = tokenizer\n",
    "        self.categories = ['Rất không hài lòng', 'Không hài lòng', 'Bình thường', 'Hài lòng', 'Cực kì hài lòng']\n",
    "        self.transform = transform\n",
    "    \n",
    "    def __len__(self):\n",
    "        return len(self.df)\n",
    "\n",
    "    def __getitem__(self, index):\n",
    "        row = self.df.iloc[index]\n",
    "        text, label = self.get_input_data(row)\n",
    "\n",
    "        encoding = self.tokenizer.encode_plus(\n",
    "            text,\n",
    "            truncation=True,\n",
    "            add_special_tokens=True,\n",
    "            max_length=self.max_len,\n",
    "            padding='max_length',\n",
    "            return_attention_mask=True,\n",
    "            return_token_type_ids=False,\n",
    "            return_tensors='pt'\n",
    "        )\n",
    "        \n",
    "        return {\n",
    "            'text': text,\n",
    "            'input_ids': encoding['input_ids'].flatten(),\n",
    "            'attention_masks': encoding['attention_mask'].flatten(),\n",
    "            'targets': torch.tensor(label, dtype=torch.long),\n",
    "        }\n",
    "\n",
    "    def labelencoder(self,text):\n",
    "        if text=='Rất không hài lòng':\n",
    "            return 0\n",
    "        elif text=='Không hài lòng':\n",
    "            return 1\n",
    "        elif text=='Bình thường':\n",
    "            return 2\n",
    "        elif text=='Hài lòng':\n",
    "            return 3\n",
    "        else:\n",
    "            return 4\n",
    "\n",
    "    def get_input_data(self, row):\n",
    "        text = row['cleaned']\n",
    "        if self.transform:\n",
    "            text = self.transform(text)\n",
    "        text = ' '.join(simple_preprocess(text))\n",
    "        text = ' '.join(tokenizer_phobert.tokenize(text))\n",
    "        label = self.labelencoder(row['title'])\n",
    "\n",
    "        return text, label"
   ]
  },
  {
   "cell_type": "code",
   "execution_count": 33,
   "metadata": {},
   "outputs": [],
   "source": [
    "train_df, valid_df = train_test_split(df[['cleaned', 'title']], test_size=0.2, random_state=42, stratify=df['title'])"
   ]
  },
  {
   "cell_type": "markdown",
   "metadata": {},
   "source": [
    "## Augmentation"
   ]
  },
  {
   "cell_type": "code",
   "execution_count": 34,
   "metadata": {},
   "outputs": [],
   "source": [
    "transform = compose(\n",
    "    lambda text, n=10, p=0.5, max_attempts=10: synonym_replacement(text, n=n, p=p, max_attempts=max_attempts)\n",
    ")"
   ]
  },
  {
   "cell_type": "code",
   "execution_count": 75,
   "metadata": {},
   "outputs": [],
   "source": [
    "train_data = CommentDataset(train_df, tokenizer_phobert, transform=transform)\n",
    "train_dataloader = DataLoader(train_data, batch_size=32, shuffle=True)\n",
    "\n",
    "valid_data = CommentDataset(valid_df, tokenizer_phobert)\n",
    "valid_dataloader = DataLoader(valid_data, batch_size=32)"
   ]
  },
  {
   "cell_type": "code",
   "execution_count": 89,
   "metadata": {},
   "outputs": [
    {
     "data": {
      "text/plain": [
       "{'text': 'tôi yêu cầu tẩy chay do sự độc ác trong dịch vụ sau bán hàng với khách hàng thạo đờ@@ ig nghĩ rằng khách hàng đã mua xong',\n",
       " 'input_ids': tensor([    0,    70,   413,   630,  6013,  8611,    91,    61,  1964,  4561,\n",
       "            12,  1626,   178,    53,   170,   119,    15,   336,   119, 14736,\n",
       "         56417, 10573, 10013, 35166,   487,    87,   336,   119,    14,   188,\n",
       "           954,     2,     1,     1,     1,     1,     1,     1,     1,     1,\n",
       "             1,     1,     1,     1,     1,     1,     1,     1,     1,     1]),\n",
       " 'attention_masks': tensor([1, 1, 1, 1, 1, 1, 1, 1, 1, 1, 1, 1, 1, 1, 1, 1, 1, 1, 1, 1, 1, 1, 1, 1,\n",
       "         1, 1, 1, 1, 1, 1, 1, 1, 0, 0, 0, 0, 0, 0, 0, 0, 0, 0, 0, 0, 0, 0, 0, 0,\n",
       "         0, 0]),\n",
       " 'targets': tensor(0)}"
      ]
     },
     "execution_count": 89,
     "metadata": {},
     "output_type": "execute_result"
    }
   ],
   "source": [
    "train_data[0]"
   ]
  },
  {
   "cell_type": "code",
   "execution_count": 76,
   "metadata": {},
   "outputs": [],
   "source": [
    "device = torch.device(\"mps\" if torch.backends.mps.is_available() else \"cpu\")"
   ]
  },
  {
   "cell_type": "code",
   "execution_count": 77,
   "metadata": {},
   "outputs": [],
   "source": [
    "\n",
    "# # Số lượng mẫu trong mỗi lớp\n",
    "# class_counts = {\n",
    "#     \"Rất không hài lòng\": 7999,\n",
    "#     \"Không hài lòng\": 2981,\n",
    "#     \"Bình thường\": 5320,\n",
    "#     \"Hài lòng\": 12127,\n",
    "#     \"Cực kì hài lòng\": 66750\n",
    "# }\n",
    "\n",
    "# # Tổng số mẫu\n",
    "# total_samples = sum(class_counts.values())\n",
    "\n",
    "# # Tính trọng số cho mỗi lớp theo tỷ lệ nghịch với số lượng lớp\n",
    "# weights = [total_samples / count for count in class_counts.values()]\n",
    "\n",
    "# # Chuyển weights thành tensor và chuyển sang device\n",
    "# weights_tensor = torch.tensor(weights).float().to(device)"
   ]
  },
  {
   "cell_type": "code",
   "execution_count": 78,
   "metadata": {},
   "outputs": [],
   "source": [
    "weights = [0] * 5\n",
    "weights_df = train_df['title'].value_counts().reset_index()\n",
    "\n",
    "weights[4] = int(weights_df[weights_df['title'] == 'Cực kì hài lòng']['count'].iloc[0])\n",
    "weights[3] = int(weights_df[weights_df['title'] == 'Hài lòng']['count'].iloc[0])\n",
    "weights[2] = int(weights_df[weights_df['title'] == 'Bình thường']['count'].iloc[0])\n",
    "weights[1] = int(weights_df[weights_df['title'] == 'Không hài lòng']['count'].iloc[0])\n",
    "weights[0] = int(weights_df[weights_df['title'] == 'Rất không hài lòng']['count'].iloc[0])"
   ]
  },
  {
   "cell_type": "code",
   "execution_count": 79,
   "metadata": {},
   "outputs": [
    {
     "data": {
      "text/plain": [
       "[10741, 8929, 9805, 7550, 38804]"
      ]
     },
     "execution_count": 79,
     "metadata": {},
     "output_type": "execute_result"
    }
   ],
   "source": [
    "weights"
   ]
  },
  {
   "cell_type": "code",
   "execution_count": 80,
   "metadata": {},
   "outputs": [],
   "source": [
    "# class_counts = torch.tensor(weights, dtype=torch.float)\n",
    "\n",
    "# # Tính trọng số ngược\n",
    "# class_weights = 1.0 / class_counts\n",
    "# normalized_weights = (class_weights / class_weights.sum()).to(device)"
   ]
  },
  {
   "cell_type": "code",
   "execution_count": 81,
   "metadata": {},
   "outputs": [],
   "source": [
    "# Tính toán trọng số cho từng lớp (ngược lại với số lượng mẫu)\n",
    "total_samples = sum(weights)\n",
    "class_weights = [total_samples / weight for weight in weights]\n",
    "\n",
    "# Chuyển trọng số thành tensor để sử dụng trong CrossEntropyLoss\n",
    "normalized_weights = torch.tensor(class_weights, dtype=torch.float).to(device)"
   ]
  },
  {
   "cell_type": "code",
   "execution_count": 82,
   "metadata": {},
   "outputs": [
    {
     "data": {
      "text/plain": [
       "tensor([ 7.0598,  8.4924,  7.7337, 10.0436,  1.9542], device='mps:0')"
      ]
     },
     "execution_count": 82,
     "metadata": {},
     "output_type": "execute_result"
    }
   ],
   "source": [
    "normalized_weights"
   ]
  },
  {
   "cell_type": "code",
   "execution_count": 83,
   "metadata": {},
   "outputs": [],
   "source": [
    "from transformers import AdamW\n",
    "from torch.optim import Adam\n",
    "from tqdm import tqdm\n",
    "from torchvision.ops import focal_loss"
   ]
  },
  {
   "cell_type": "markdown",
   "metadata": {},
   "source": [
    "## LSTM"
   ]
  },
  {
   "cell_type": "code",
   "execution_count": 84,
   "metadata": {},
   "outputs": [],
   "source": [
    "from build_model.lstm import *\n",
    "from trainer.trainer import *"
   ]
  },
  {
   "cell_type": "code",
   "execution_count": 85,
   "metadata": {},
   "outputs": [],
   "source": [
    "# import torch\n",
    "# import torch.nn as nn\n",
    "\n",
    "# class LSTM(nn.Module):\n",
    "# \tdef __init__(self, vocab_size, embedding_dim, lstm_units=64, num_layers=2, dropout=0.2, activation=None, batch_normalization=False, bidirectional=False, output_dim=5):\n",
    "# \t\tsuper(LSTM, self).__init__()\n",
    "# \t\tself.embedding=nn.Embedding(vocab_size, embedding_dim)\n",
    "# \t\tself.lstm=nn.LSTM(embedding_dim, lstm_units, num_layers, batch_first=True, dropout=dropout, bidirectional=bidirectional)\n",
    "# \t\tif bidirectional:\n",
    "# \t\t\tself.dense1=nn.Linear(lstm_units*2, lstm_units)\n",
    "# \t\telse:\n",
    "# \t\t\tself.dense1=nn.Linear(lstm_units, lstm_units)\n",
    "# \t\tself.bn=nn.BatchNorm1d(lstm_units) if batch_normalization else nn.Identity()\n",
    "# \t\tself.activation=activation\n",
    "# \t\tself.dropout=nn.Dropout(dropout)\n",
    "# \t\tself.dense2=nn.Linear(lstm_units, output_dim)\n",
    "# \tdef forward(self, inputs):\n",
    "# \t\tX=self.embedding(inputs)\n",
    "# \t\tX,_=self.lstm(X)\n",
    "# \t\t# X=self.dense1(X)\n",
    "# \t\tX_mean = torch.mean(X, dim=1)\n",
    "# \t\t# X = X[:, -1, :]\n",
    "# \t\tX = self.dense1(X_mean)\n",
    "# \t\tX=self.bn(X)\n",
    "# \t\tif self.activation is not None:\n",
    "# \t\t\tX=self.activation(X)\n",
    "# \t\tX=self.dropout(X)\n",
    "# \t\tX=self.dense2(X)\n",
    "# \t\treturn X"
   ]
  },
  {
   "cell_type": "code",
   "execution_count": 104,
   "metadata": {},
   "outputs": [],
   "source": [
    "import torch\n",
    "import torch.nn as nn\n",
    "\n",
    "class LSTM(nn.Module):\n",
    "    def __init__(self, vocab_size, embedding_dim, lstm_units=64, num_layers=2, dropout=0.2, activation=None, batch_normalization=False, bidirectional=False, output_dim=5):\n",
    "        super(LSTM, self).__init__()\n",
    "        self.embedding = nn.Embedding(vocab_size, embedding_dim)\n",
    "        self.lstm = nn.LSTM(embedding_dim, lstm_units, num_layers, batch_first=True, dropout=dropout, bidirectional=bidirectional)\n",
    "        \n",
    "        # Adjust hidden size depending on bidirectional flag\n",
    "        hidden_size = lstm_units * 2 if bidirectional else lstm_units\n",
    "        self.dense1 = nn.Linear(hidden_size * 2, lstm_units)  # After concatenating mean and max, double the hidden size\n",
    "        \n",
    "        # Batch normalization if specified\n",
    "        self.bn = nn.BatchNorm1d(lstm_units) if batch_normalization else nn.Identity()\n",
    "        \n",
    "        # Activation function if specified\n",
    "        self.activation = activation\n",
    "        \n",
    "        self.dropout = nn.Dropout(dropout)\n",
    "        \n",
    "        # Output layer size based on concatenation of mean and max\n",
    "        self.dense2 = nn.Linear(lstm_units, output_dim)  # Fixing input size based on dense1 output\n",
    "\n",
    "    def forward(self, inputs):\n",
    "        X = self.embedding(inputs)\n",
    "        X, _ = self.lstm(X)\n",
    "        \n",
    "        # Calculate mean and max along the sequence length dimension\n",
    "        X_mean = torch.mean(X, dim=1)\n",
    "        X_max = torch.max(X, dim=1).values\n",
    "        \n",
    "        # Concatenate mean and max representations\n",
    "        X = torch.cat([X_mean, X_max], dim=1)\n",
    "\n",
    "        X = self.dense1(X)\n",
    "        X = self.bn(X)\n",
    "        if self.activation is not None:\n",
    "            X = self.activation(X)\n",
    "        X = self.dropout(X)\n",
    "        X = self.dense2(X)\n",
    "        return X\n"
   ]
  },
  {
   "cell_type": "code",
   "execution_count": 107,
   "metadata": {},
   "outputs": [
    {
     "name": "stderr",
     "output_type": "stream",
     "text": [
      "/Users/nguyendat/miniconda3/envs/base_2/lib/python3.11/site-packages/transformers/optimization.py:591: FutureWarning: This implementation of AdamW is deprecated and will be removed in a future version. Use the PyTorch implementation torch.optim.AdamW instead, or set `no_deprecation_warning=True` to disable this warning\n",
      "  warnings.warn(\n"
     ]
    }
   ],
   "source": [
    "from trainer.trainer import *\n",
    "lstm_units = 128 # 512 > 83% f1 and dropout = 0.3 (0.830764880531599, 0.8355025358806822, 0.830764880531599, 0.8328585860260769)\n",
    "output_dim = 5\n",
    "\n",
    "model = LSTM(\n",
    "    vocab_size=64001,\n",
    "    embedding_dim=768,\n",
    "    lstm_units=lstm_units,\n",
    "    num_layers=2,            \n",
    "    dropout=0.5,             \n",
    "    activation=nn.ReLU(),\n",
    "    batch_normalization=True,  \n",
    "    bidirectional=False,     \n",
    "    output_dim=5           \n",
    ").to(device)\n",
    "\n",
    "# Định nghĩa hàm mất mát và tối ưu hóa\n",
    "criterion =  nn.CrossEntropyLoss(weight=normalized_weights, label_smoothing=0.05)\n",
    "optimizer = AdamW(model.parameters(), lr=1e-3, eps = 1e-8, weight_decay=1e-3)\n",
    "\n",
    "epochs = 20\n",
    "max_grad_norm = 1.0\n",
    "total_steps = len(train_dataloader) * epochs\n",
    "scheduler = get_linear_schedule_with_warmup(\n",
    "    optimizer,\n",
    "    num_warmup_steps=0,\n",
    "    num_training_steps=total_steps\n",
    ")\n",
    "\n",
    "grad_clip = True\n",
    "\n",
    "_trainer = trainer()\n",
    "\n",
    "if os.path.exists('logs/LSTM'):\n",
    "    shutil.rmtree('logs/LSTM')\n",
    "writer = SummaryWriter(log_dir='logs/LSTM')"
   ]
  },
  {
   "cell_type": "code",
   "execution_count": 108,
   "metadata": {},
   "outputs": [
    {
     "name": "stderr",
     "output_type": "stream",
     "text": [
      "TRAIN | Epoch: 1/20 | Iter: 2370/2370 | Error: 0/2370 | Loss: 0.0400: 100%|\u001b[38;2;128;0;128m█████████\u001b[0m| 2370/2370 [01:10<00:00, 33.65it/s]\u001b[0m\n"
     ]
    },
    {
     "name": "stdout",
     "output_type": "stream",
     "text": [
      "TEST | Epoch: 1/20 | Loss: 1.1620 | F1: 0.6815\n"
     ]
    },
    {
     "name": "stderr",
     "output_type": "stream",
     "text": [
      "TRAIN | Epoch: 2/20 | Iter: 2370/2370 | Error: 0/2370 | Loss: 0.0366: 100%|\u001b[38;2;128;0;128m█████████\u001b[0m| 2370/2370 [01:10<00:00, 33.81it/s]\u001b[0m\n"
     ]
    },
    {
     "name": "stdout",
     "output_type": "stream",
     "text": [
      "TEST | Epoch: 2/20 | Loss: 1.1269 | F1: 0.7190\n"
     ]
    },
    {
     "name": "stderr",
     "output_type": "stream",
     "text": [
      "TRAIN | Epoch: 3/20 | Iter: 2370/2370 | Error: 0/2370 | Loss: 0.0344: 100%|\u001b[38;2;128;0;128m█████████\u001b[0m| 2370/2370 [01:10<00:00, 33.80it/s]\u001b[0m\n"
     ]
    },
    {
     "name": "stdout",
     "output_type": "stream",
     "text": [
      "TEST | Epoch: 3/20 | Loss: 1.1051 | F1: 0.7258\n"
     ]
    },
    {
     "name": "stderr",
     "output_type": "stream",
     "text": [
      "TRAIN | Epoch: 4/20 | Iter: 2370/2370 | Error: 0/2370 | Loss: 0.0321: 100%|\u001b[38;2;128;0;128m█████████\u001b[0m| 2370/2370 [01:10<00:00, 33.79it/s]\u001b[0m\n"
     ]
    },
    {
     "name": "stdout",
     "output_type": "stream",
     "text": [
      "TEST | Epoch: 4/20 | Loss: 1.0774 | F1: 0.7409\n"
     ]
    },
    {
     "name": "stderr",
     "output_type": "stream",
     "text": [
      "TRAIN | Epoch: 5/20 | Iter: 2370/2370 | Error: 0/2370 | Loss: 0.0300: 100%|\u001b[38;2;128;0;128m█████████\u001b[0m| 2370/2370 [01:10<00:00, 33.79it/s]\u001b[0m\n"
     ]
    },
    {
     "name": "stdout",
     "output_type": "stream",
     "text": [
      "TEST | Epoch: 5/20 | Loss: 1.0747 | F1: 0.7484\n"
     ]
    },
    {
     "name": "stderr",
     "output_type": "stream",
     "text": [
      "TRAIN | Epoch: 6/20 | Iter: 2370/2370 | Error: 0/2370 | Loss: 0.0282: 100%|\u001b[38;2;128;0;128m█████████\u001b[0m| 2370/2370 [01:10<00:00, 33.79it/s]\u001b[0m\n"
     ]
    },
    {
     "name": "stdout",
     "output_type": "stream",
     "text": [
      "TEST | Epoch: 6/20 | Loss: 1.0667 | F1: 0.7566\n"
     ]
    },
    {
     "name": "stderr",
     "output_type": "stream",
     "text": [
      "TRAIN | Epoch: 7/20 | Iter: 2370/2370 | Error: 0/2370 | Loss: 0.0266: 100%|\u001b[38;2;128;0;128m█████████\u001b[0m| 2370/2370 [01:10<00:00, 33.72it/s]\u001b[0m\n"
     ]
    },
    {
     "name": "stdout",
     "output_type": "stream",
     "text": [
      "TEST | Epoch: 7/20 | Loss: 1.0707 | F1: 0.7631\n"
     ]
    },
    {
     "name": "stderr",
     "output_type": "stream",
     "text": [
      "TRAIN | Epoch: 8/20 | Iter: 2370/2370 | Error: 0/2370 | Loss: 0.0252: 100%|\u001b[38;2;128;0;128m█████████\u001b[0m| 2370/2370 [01:10<00:00, 33.71it/s]\u001b[0m\n"
     ]
    },
    {
     "name": "stdout",
     "output_type": "stream",
     "text": [
      "TEST | Epoch: 8/20 | Loss: 1.0531 | F1: 0.7655\n"
     ]
    },
    {
     "name": "stderr",
     "output_type": "stream",
     "text": [
      "TRAIN | Epoch: 9/20 | Iter: 2370/2370 | Error: 0/2370 | Loss: 0.0239: 100%|\u001b[38;2;128;0;128m█████████\u001b[0m| 2370/2370 [01:10<00:00, 33.73it/s]\u001b[0m\n"
     ]
    },
    {
     "name": "stdout",
     "output_type": "stream",
     "text": [
      "TEST | Epoch: 9/20 | Loss: 1.0765 | F1: 0.7709\n"
     ]
    },
    {
     "name": "stderr",
     "output_type": "stream",
     "text": [
      "TRAIN | Epoch: 10/20 | Iter: 2370/2370 | Error: 0/2370 | Loss: 0.0228: 100%|\u001b[38;2;128;0;128m████████\u001b[0m| 2370/2370 [01:10<00:00, 33.69it/s]\u001b[0m\n"
     ]
    },
    {
     "name": "stdout",
     "output_type": "stream",
     "text": [
      "TEST | Epoch: 10/20 | Loss: 1.0605 | F1: 0.7740\n"
     ]
    },
    {
     "name": "stderr",
     "output_type": "stream",
     "text": [
      "TRAIN | Epoch: 11/20 | Iter: 2370/2370 | Error: 0/2370 | Loss: 0.0217: 100%|\u001b[38;2;128;0;128m████████\u001b[0m| 2370/2370 [01:10<00:00, 33.65it/s]\u001b[0m\n"
     ]
    },
    {
     "name": "stdout",
     "output_type": "stream",
     "text": [
      "TEST | Epoch: 11/20 | Loss: 1.0861 | F1: 0.7785\n"
     ]
    },
    {
     "name": "stderr",
     "output_type": "stream",
     "text": [
      "TRAIN | Epoch: 12/20 | Iter: 2370/2370 | Error: 0/2370 | Loss: 0.0208: 100%|\u001b[38;2;128;0;128m████████\u001b[0m| 2370/2370 [01:10<00:00, 33.78it/s]\u001b[0m\n"
     ]
    },
    {
     "name": "stdout",
     "output_type": "stream",
     "text": [
      "TEST | Epoch: 12/20 | Loss: 1.0889 | F1: 0.7793\n"
     ]
    },
    {
     "name": "stderr",
     "output_type": "stream",
     "text": [
      "TRAIN | Epoch: 13/20 | Iter: 1568/2370 | Error: 0/2370 | Loss: 0.0196:  66%|\u001b[38;2;128;0;128m█████▎  \u001b[0m| 1568/2370 [00:46<00:23, 33.75it/s]\u001b[0m\n"
     ]
    },
    {
     "ename": "KeyboardInterrupt",
     "evalue": "",
     "output_type": "error",
     "traceback": [
      "\u001b[0;31m---------------------------------------------------------------------------\u001b[0m",
      "\u001b[0;31mKeyboardInterrupt\u001b[0m                         Traceback (most recent call last)",
      "Cell \u001b[0;32mIn[108], line 4\u001b[0m\n\u001b[1;32m      2\u001b[0m best_loss \u001b[38;5;241m=\u001b[39m \u001b[38;5;28mfloat\u001b[39m(\u001b[38;5;124m'\u001b[39m\u001b[38;5;124minf\u001b[39m\u001b[38;5;124m'\u001b[39m)\n\u001b[1;32m      3\u001b[0m \u001b[38;5;28;01mfor\u001b[39;00m epoch \u001b[38;5;129;01min\u001b[39;00m \u001b[38;5;28mrange\u001b[39m(epochs):\n\u001b[0;32m----> 4\u001b[0m     \u001b[43m_trainer\u001b[49m\u001b[38;5;241;43m.\u001b[39;49m\u001b[43mtrain\u001b[49m\u001b[43m(\u001b[49m\n\u001b[1;32m      5\u001b[0m \u001b[43m        \u001b[49m\u001b[43mmodel\u001b[49m\u001b[43m,\u001b[49m\n\u001b[1;32m      6\u001b[0m \u001b[43m        \u001b[49m\u001b[43mtrain_dataloader\u001b[49m\u001b[43m,\u001b[49m\n\u001b[1;32m      7\u001b[0m \u001b[43m        \u001b[49m\u001b[43mepoch\u001b[49m\u001b[43m,\u001b[49m\n\u001b[1;32m      8\u001b[0m \u001b[43m        \u001b[49m\u001b[43mepochs\u001b[49m\u001b[43m,\u001b[49m\n\u001b[1;32m      9\u001b[0m \u001b[43m        \u001b[49m\u001b[43mwriter\u001b[49m\u001b[43m,\u001b[49m\n\u001b[1;32m     10\u001b[0m \u001b[43m        \u001b[49m\u001b[43mcriterion\u001b[49m\u001b[43m,\u001b[49m\n\u001b[1;32m     11\u001b[0m \u001b[43m        \u001b[49m\u001b[43moptimizer\u001b[49m\u001b[43m,\u001b[49m\n\u001b[1;32m     12\u001b[0m \u001b[43m        \u001b[49m\u001b[43mdevice\u001b[49m\u001b[43m,\u001b[49m\n\u001b[1;32m     13\u001b[0m \u001b[43m        \u001b[49m\u001b[43mmax_grad_norm\u001b[49m\u001b[43m,\u001b[49m\n\u001b[1;32m     14\u001b[0m \u001b[43m        \u001b[49m\u001b[43mscheduler\u001b[49m\u001b[43m,\u001b[49m\n\u001b[1;32m     15\u001b[0m \u001b[43m        \u001b[49m\u001b[43mgrad_clip\u001b[49m\u001b[38;5;241;43m=\u001b[39;49m\u001b[43mgrad_clip\u001b[49m\n\u001b[1;32m     16\u001b[0m \u001b[43m    \u001b[49m\u001b[43m)\u001b[49m\n\u001b[1;32m     18\u001b[0m     val_loss, val_f1 \u001b[38;5;241m=\u001b[39m _trainer\u001b[38;5;241m.\u001b[39mvalidation(\n\u001b[1;32m     19\u001b[0m         model,\n\u001b[1;32m     20\u001b[0m         valid_dataloader,\n\u001b[1;32m     21\u001b[0m         criterion,\n\u001b[1;32m     22\u001b[0m         device\n\u001b[1;32m     23\u001b[0m     )\n\u001b[1;32m     25\u001b[0m     \u001b[38;5;28mprint\u001b[39m(\u001b[38;5;124mf\u001b[39m\u001b[38;5;124m\"\u001b[39m\u001b[38;5;124mTEST | Epoch: \u001b[39m\u001b[38;5;132;01m{\u001b[39;00mepoch\u001b[38;5;241m+\u001b[39m\u001b[38;5;241m1\u001b[39m\u001b[38;5;132;01m}\u001b[39;00m\u001b[38;5;124m/\u001b[39m\u001b[38;5;132;01m{\u001b[39;00mepochs\u001b[38;5;132;01m}\u001b[39;00m\u001b[38;5;124m | Loss: \u001b[39m\u001b[38;5;132;01m{\u001b[39;00mval_loss\u001b[38;5;132;01m:\u001b[39;00m\u001b[38;5;124m.4f\u001b[39m\u001b[38;5;132;01m}\u001b[39;00m\u001b[38;5;124m | F1: \u001b[39m\u001b[38;5;132;01m{\u001b[39;00mval_f1\u001b[38;5;132;01m:\u001b[39;00m\u001b[38;5;124m.4f\u001b[39m\u001b[38;5;132;01m}\u001b[39;00m\u001b[38;5;124m\"\u001b[39m)\n",
      "File \u001b[0;32m~/Documents/BTL_ML/BTL/trainer/trainer.py:111\u001b[0m, in \u001b[0;36mtrainer.train\u001b[0;34m(self, model, dataloader, epoch, epochs, writer, criterion, optimizer, device, max_grad_norm, scheduler, grad_clip)\u001b[0m\n\u001b[1;32m    109\u001b[0m model\u001b[38;5;241m.\u001b[39mtrain()\n\u001b[1;32m    110\u001b[0m \u001b[38;5;28;01mfor\u001b[39;00m \u001b[38;5;28miter\u001b[39m, batch \u001b[38;5;129;01min\u001b[39;00m \u001b[38;5;28menumerate\u001b[39m(progress_bar):\n\u001b[0;32m--> 111\u001b[0m     inputs, labels \u001b[38;5;241m=\u001b[39m \u001b[43mbatch\u001b[49m\u001b[43m[\u001b[49m\u001b[38;5;124;43m'\u001b[39;49m\u001b[38;5;124;43minput_ids\u001b[39;49m\u001b[38;5;124;43m'\u001b[39;49m\u001b[43m]\u001b[49m\u001b[38;5;241;43m.\u001b[39;49m\u001b[43mto\u001b[49m\u001b[43m(\u001b[49m\u001b[43mdevice\u001b[49m\u001b[43m)\u001b[49m, batch[\u001b[38;5;124m'\u001b[39m\u001b[38;5;124mtargets\u001b[39m\u001b[38;5;124m'\u001b[39m]\u001b[38;5;241m.\u001b[39mto(device)\n\u001b[1;32m    112\u001b[0m     optimizer\u001b[38;5;241m.\u001b[39mzero_grad()\n\u001b[1;32m    113\u001b[0m     outputs \u001b[38;5;241m=\u001b[39m model(inputs)\n",
      "\u001b[0;31mKeyboardInterrupt\u001b[0m: "
     ]
    }
   ],
   "source": [
    "best_f1 = 0\n",
    "best_loss = float('inf')\n",
    "for epoch in range(epochs):\n",
    "    _trainer.train(\n",
    "        model,\n",
    "        train_dataloader,\n",
    "        epoch,\n",
    "        epochs,\n",
    "        writer,\n",
    "        criterion,\n",
    "        optimizer,\n",
    "        device,\n",
    "        max_grad_norm,\n",
    "        scheduler,\n",
    "        grad_clip=grad_clip\n",
    "    )\n",
    "\n",
    "    val_loss, val_f1 = _trainer.validation(\n",
    "        model,\n",
    "        valid_dataloader,\n",
    "        criterion,\n",
    "        device\n",
    "    )\n",
    "\n",
    "    print(f\"TEST | Epoch: {epoch+1}/{epochs} | Loss: {val_loss:.4f} | F1: {val_f1:.4f}\")\n",
    "    writer.add_scalar('Val/Loss', val_loss, epoch+1)\n",
    "    writer.add_scalar('Val/f1', val_f1, epoch+1)\n",
    "\n",
    "    checkpoint = {\n",
    "        'model_state_dict': model.state_dict(),\n",
    "        'epoch': epoch+1,\n",
    "        'optimizer_state_dict': optimizer.state_dict()\n",
    "    }\n",
    "    \n",
    "    os.makedirs('model_state_dict/LSTM', exist_ok=True)\n",
    "    torch.save(checkpoint, os.path.join('model_state_dict/LSTM', 'last.pth'))\n",
    "    if val_f1 > best_f1 and val_loss < best_loss:\n",
    "        torch.save(checkpoint, os.path.join('model_state_dict/LSTM', 'best.pth'))\n",
    "        best_loss = val_loss\n",
    "        best_f1 = val_f1"
   ]
  },
  {
   "cell_type": "code",
   "execution_count": 48,
   "metadata": {},
   "outputs": [
    {
     "name": "stderr",
     "output_type": "stream",
     "text": [
      "/var/folders/kz/74mz5c7s0bj57yfdc183qm480000gn/T/ipykernel_10774/501570415.py:1: FutureWarning: You are using `torch.load` with `weights_only=False` (the current default value), which uses the default pickle module implicitly. It is possible to construct malicious pickle data which will execute arbitrary code during unpickling (See https://github.com/pytorch/pytorch/blob/main/SECURITY.md#untrusted-models for more details). In a future release, the default value for `weights_only` will be flipped to `True`. This limits the functions that could be executed during unpickling. Arbitrary objects will no longer be allowed to be loaded via this mode unless they are explicitly allowlisted by the user via `torch.serialization.add_safe_globals`. We recommend you start setting `weights_only=True` for any use case where you don't have full control of the loaded file. Please open an issue on GitHub for any issues related to this experimental feature.\n",
      "  checkpoint = torch.load(\"model_state_dict/LSTM/best.pth\")\n"
     ]
    }
   ],
   "source": [
    "checkpoint = torch.load(\"model_state_dict/LSTM/best.pth\")"
   ]
  },
  {
   "cell_type": "code",
   "execution_count": 49,
   "metadata": {},
   "outputs": [
    {
     "data": {
      "text/plain": [
       "<All keys matched successfully>"
      ]
     },
     "execution_count": 49,
     "metadata": {},
     "output_type": "execute_result"
    }
   ],
   "source": [
    "model.load_state_dict(checkpoint['model_state_dict'])"
   ]
  },
  {
   "cell_type": "code",
   "execution_count": 52,
   "metadata": {},
   "outputs": [],
   "source": [
    "metrics, metrics_macro = _trainer.evaluate_model(model, valid_dataloader, None, device)"
   ]
  },
  {
   "cell_type": "code",
   "execution_count": 53,
   "metadata": {},
   "outputs": [
    {
     "data": {
      "text/plain": [
       "(0.8343465761817239, 0.8384922753117587, 0.8343465761817239, 0.836196878988619)"
      ]
     },
     "execution_count": 53,
     "metadata": {},
     "output_type": "execute_result"
    }
   ],
   "source": [
    "metrics['Accuracy'], metrics['precision'], metrics['recall'], metrics['f1']"
   ]
  },
  {
   "cell_type": "code",
   "execution_count": 54,
   "metadata": {},
   "outputs": [
    {
     "data": {
      "text/plain": [
       "(0.8343465761817239,\n",
       " 0.7571233858111648,\n",
       " 0.7674074200326348,\n",
       " 0.7620274184520014)"
      ]
     },
     "execution_count": 54,
     "metadata": {},
     "output_type": "execute_result"
    }
   ],
   "source": [
    "metrics_macro['Accuracy'], metrics_macro['precision'], metrics_macro['recall'], metrics_macro['f1']"
   ]
  },
  {
   "cell_type": "markdown",
   "metadata": {},
   "source": [
    "## RNN"
   ]
  },
  {
   "cell_type": "code",
   "execution_count": 78,
   "metadata": {},
   "outputs": [],
   "source": [
    "from build_model.rnn import *"
   ]
  },
  {
   "cell_type": "code",
   "execution_count": 81,
   "metadata": {},
   "outputs": [
    {
     "name": "stderr",
     "output_type": "stream",
     "text": [
      "/Users/nguyendat/miniconda3/envs/base_2/lib/python3.11/site-packages/transformers/optimization.py:591: FutureWarning: This implementation of AdamW is deprecated and will be removed in a future version. Use the PyTorch implementation torch.optim.AdamW instead, or set `no_deprecation_warning=True` to disable this warning\n",
      "  warnings.warn(\n"
     ]
    }
   ],
   "source": [
    "output_dim = 5\n",
    "\n",
    "RNN_model = RNN(vocab_size=64001, embedding_dim=768, output_dim=output_dim, rnn_units=512, dropout=0.3, batch_normalization=True, bidirectional=False).to(device)\n",
    "\n",
    "# Định nghĩa hàm mất mát và tối ưu hóa\n",
    "criterion = nn.CrossEntropyLoss(weight=normalized_weights, label_smoothing=0.05)  # Hàm mất mát cho phân loại đa lớp\n",
    "optimizer = AdamW(RNN_model.parameters(), lr=1e-3, eps = 1e-8)\n",
    "\n",
    "epochs = 20\n",
    "max_grad_norm = 1.0\n",
    "total_steps = len(train_dataloader) * epochs\n",
    "scheduler = get_linear_schedule_with_warmup(\n",
    "    optimizer,\n",
    "    num_warmup_steps=0,\n",
    "    num_training_steps=total_steps\n",
    ")\n",
    "\n",
    "\n",
    "if os.path.exists('logs/RNN_dup'):\n",
    "    shutil.rmtree('logs/RNN_dup')\n",
    "writer = SummaryWriter(log_dir='logs/RNN_dup')\n"
   ]
  },
  {
   "cell_type": "code",
   "execution_count": 82,
   "metadata": {},
   "outputs": [
    {
     "name": "stderr",
     "output_type": "stream",
     "text": [
      "TRAIN | Epoch: 1/20 | Iter: 2653/2653 | Error: 0/2653 | Loss: 0.0538: 100%|\u001b[38;2;128;0;128m█████████\u001b[0m| 2653/2653 [01:53<00:00, 23.37it/s]\u001b[0m\n"
     ]
    },
    {
     "name": "stdout",
     "output_type": "stream",
     "text": [
      "TEST | Epoch: 1/20 | Loss: 1.7851 | F1: 0.0553\n"
     ]
    },
    {
     "name": "stderr",
     "output_type": "stream",
     "text": [
      "TRAIN | Epoch: 2/20 | Iter: 2653/2653 | Error: 0/2653 | Loss: 0.0531: 100%|\u001b[38;2;128;0;128m█████████\u001b[0m| 2653/2653 [01:52<00:00, 23.62it/s]\u001b[0m\n"
     ]
    },
    {
     "name": "stdout",
     "output_type": "stream",
     "text": [
      "TEST | Epoch: 2/20 | Loss: 1.6747 | F1: 0.0552\n"
     ]
    },
    {
     "name": "stderr",
     "output_type": "stream",
     "text": [
      "TRAIN | Epoch: 3/20 | Iter: 2653/2653 | Error: 0/2653 | Loss: 0.0526: 100%|\u001b[38;2;128;0;128m█████████\u001b[0m| 2653/2653 [01:53<00:00, 23.42it/s]\u001b[0m\n"
     ]
    },
    {
     "name": "stdout",
     "output_type": "stream",
     "text": [
      "TEST | Epoch: 3/20 | Loss: 1.6775 | F1: 0.0759\n"
     ]
    },
    {
     "name": "stderr",
     "output_type": "stream",
     "text": [
      "TRAIN | Epoch: 4/20 | Iter: 2653/2653 | Error: 0/2653 | Loss: 0.0523: 100%|\u001b[38;2;128;0;128m█████████\u001b[0m| 2653/2653 [01:53<00:00, 23.28it/s]\u001b[0m\n"
     ]
    },
    {
     "name": "stdout",
     "output_type": "stream",
     "text": [
      "TEST | Epoch: 4/20 | Loss: 1.6764 | F1: 0.0410\n"
     ]
    },
    {
     "name": "stderr",
     "output_type": "stream",
     "text": [
      "TRAIN | Epoch: 5/20 | Iter: 2653/2653 | Error: 0/2653 | Loss: 0.0520: 100%|\u001b[38;2;128;0;128m█████████\u001b[0m| 2653/2653 [01:54<00:00, 23.27it/s]\u001b[0m\n"
     ]
    },
    {
     "name": "stdout",
     "output_type": "stream",
     "text": [
      "TEST | Epoch: 5/20 | Loss: 1.6402 | F1: 0.0330\n"
     ]
    },
    {
     "name": "stderr",
     "output_type": "stream",
     "text": [
      "TRAIN | Epoch: 6/20 | Iter: 2653/2653 | Error: 0/2653 | Loss: 0.0518: 100%|\u001b[38;2;128;0;128m█████████\u001b[0m| 2653/2653 [01:53<00:00, 23.27it/s]\u001b[0m\n"
     ]
    },
    {
     "name": "stdout",
     "output_type": "stream",
     "text": [
      "TEST | Epoch: 6/20 | Loss: 1.6425 | F1: 0.0348\n"
     ]
    },
    {
     "name": "stderr",
     "output_type": "stream",
     "text": [
      "TRAIN | Epoch: 7/20 | Iter: 2653/2653 | Error: 0/2653 | Loss: 0.0516: 100%|\u001b[38;2;128;0;128m█████████\u001b[0m| 2653/2653 [01:54<00:00, 23.26it/s]\u001b[0m\n"
     ]
    },
    {
     "name": "stdout",
     "output_type": "stream",
     "text": [
      "TEST | Epoch: 7/20 | Loss: 1.6394 | F1: 0.0317\n"
     ]
    },
    {
     "name": "stderr",
     "output_type": "stream",
     "text": [
      "TRAIN | Epoch: 8/20 | Iter: 2653/2653 | Error: 0/2653 | Loss: 0.0515: 100%|\u001b[38;2;128;0;128m█████████\u001b[0m| 2653/2653 [01:54<00:00, 23.27it/s]\u001b[0m\n"
     ]
    },
    {
     "name": "stdout",
     "output_type": "stream",
     "text": [
      "TEST | Epoch: 8/20 | Loss: 1.6442 | F1: 0.0535\n"
     ]
    },
    {
     "name": "stderr",
     "output_type": "stream",
     "text": [
      "TRAIN | Epoch: 9/20 | Iter: 2653/2653 | Error: 0/2653 | Loss: 0.0513: 100%|\u001b[38;2;128;0;128m█████████\u001b[0m| 2653/2653 [01:54<00:00, 23.27it/s]\u001b[0m\n"
     ]
    },
    {
     "name": "stdout",
     "output_type": "stream",
     "text": [
      "TEST | Epoch: 9/20 | Loss: 1.6464 | F1: 0.0289\n"
     ]
    },
    {
     "name": "stderr",
     "output_type": "stream",
     "text": [
      "TRAIN | Epoch: 10/20 | Iter: 2653/2653 | Error: 0/2653 | Loss: 0.0513: 100%|\u001b[38;2;128;0;128m████████\u001b[0m| 2653/2653 [01:54<00:00, 23.15it/s]\u001b[0m\n"
     ]
    },
    {
     "name": "stdout",
     "output_type": "stream",
     "text": [
      "TEST | Epoch: 10/20 | Loss: 1.6426 | F1: 0.0688\n"
     ]
    },
    {
     "name": "stderr",
     "output_type": "stream",
     "text": [
      "TRAIN | Epoch: 11/20 | Iter: 2653/2653 | Error: 0/2653 | Loss: 0.0513: 100%|\u001b[38;2;128;0;128m████████\u001b[0m| 2653/2653 [01:54<00:00, 23.22it/s]\u001b[0m\n"
     ]
    },
    {
     "name": "stdout",
     "output_type": "stream",
     "text": [
      "TEST | Epoch: 11/20 | Loss: 1.6383 | F1: 0.0317\n"
     ]
    },
    {
     "name": "stderr",
     "output_type": "stream",
     "text": [
      "TRAIN | Epoch: 12/20 | Iter: 2653/2653 | Error: 0/2653 | Loss: 0.0512: 100%|\u001b[38;2;128;0;128m████████\u001b[0m| 2653/2653 [01:53<00:00, 23.29it/s]\u001b[0m\n"
     ]
    },
    {
     "name": "stdout",
     "output_type": "stream",
     "text": [
      "TEST | Epoch: 12/20 | Loss: 1.6385 | F1: 0.0410\n"
     ]
    },
    {
     "name": "stderr",
     "output_type": "stream",
     "text": [
      "TRAIN | Epoch: 13/20 | Iter: 1151/2653 | Error: 0/2653 | Loss: 0.0512:  43%|\u001b[38;2;128;0;128m███▍    \u001b[0m| 1151/2653 [00:49<01:04, 23.27it/s]\u001b[0m\n"
     ]
    },
    {
     "ename": "KeyboardInterrupt",
     "evalue": "",
     "output_type": "error",
     "traceback": [
      "\u001b[0;31m---------------------------------------------------------------------------\u001b[0m",
      "\u001b[0;31mKeyboardInterrupt\u001b[0m                         Traceback (most recent call last)",
      "Cell \u001b[0;32mIn[82], line 4\u001b[0m\n\u001b[1;32m      2\u001b[0m best_f1 \u001b[38;5;241m=\u001b[39m \u001b[38;5;241m0\u001b[39m\n\u001b[1;32m      3\u001b[0m \u001b[38;5;28;01mfor\u001b[39;00m epoch \u001b[38;5;129;01min\u001b[39;00m \u001b[38;5;28mrange\u001b[39m(epochs):\n\u001b[0;32m----> 4\u001b[0m     \u001b[43m_trainer\u001b[49m\u001b[38;5;241;43m.\u001b[39;49m\u001b[43mtrain\u001b[49m\u001b[43m(\u001b[49m\n\u001b[1;32m      5\u001b[0m \u001b[43m        \u001b[49m\u001b[43mRNN_model\u001b[49m\u001b[43m,\u001b[49m\n\u001b[1;32m      6\u001b[0m \u001b[43m        \u001b[49m\u001b[43mtrain_dataloader\u001b[49m\u001b[43m,\u001b[49m\n\u001b[1;32m      7\u001b[0m \u001b[43m        \u001b[49m\u001b[43mepoch\u001b[49m\u001b[43m,\u001b[49m\n\u001b[1;32m      8\u001b[0m \u001b[43m        \u001b[49m\u001b[43mepochs\u001b[49m\u001b[43m,\u001b[49m\n\u001b[1;32m      9\u001b[0m \u001b[43m        \u001b[49m\u001b[43mwriter\u001b[49m\u001b[43m,\u001b[49m\n\u001b[1;32m     10\u001b[0m \u001b[43m        \u001b[49m\u001b[43mcriterion\u001b[49m\u001b[43m,\u001b[49m\n\u001b[1;32m     11\u001b[0m \u001b[43m        \u001b[49m\u001b[43moptimizer\u001b[49m\u001b[43m,\u001b[49m\n\u001b[1;32m     12\u001b[0m \u001b[43m        \u001b[49m\u001b[43mdevice\u001b[49m\u001b[43m,\u001b[49m\n\u001b[1;32m     13\u001b[0m \u001b[43m        \u001b[49m\u001b[43mmax_grad_norm\u001b[49m\u001b[43m,\u001b[49m\n\u001b[1;32m     14\u001b[0m \u001b[43m        \u001b[49m\u001b[43mscheduler\u001b[49m\u001b[43m,\u001b[49m\n\u001b[1;32m     15\u001b[0m \u001b[43m        \u001b[49m\u001b[43mgrad_clip\u001b[49m\u001b[38;5;241;43m=\u001b[39;49m\u001b[38;5;28;43;01mTrue\u001b[39;49;00m\n\u001b[1;32m     16\u001b[0m \u001b[43m    \u001b[49m\u001b[43m)\u001b[49m\n\u001b[1;32m     18\u001b[0m     val_loss, val_f1 \u001b[38;5;241m=\u001b[39m _trainer\u001b[38;5;241m.\u001b[39mvalidation(\n\u001b[1;32m     19\u001b[0m         RNN_model,\n\u001b[1;32m     20\u001b[0m         valid_dataloader,\n\u001b[1;32m     21\u001b[0m         criterion,\n\u001b[1;32m     22\u001b[0m         device\n\u001b[1;32m     23\u001b[0m     )\n\u001b[1;32m     24\u001b[0m     \u001b[38;5;28mprint\u001b[39m(\u001b[38;5;124mf\u001b[39m\u001b[38;5;124m\"\u001b[39m\u001b[38;5;124mTEST | Epoch: \u001b[39m\u001b[38;5;132;01m{\u001b[39;00mepoch\u001b[38;5;241m+\u001b[39m\u001b[38;5;241m1\u001b[39m\u001b[38;5;132;01m}\u001b[39;00m\u001b[38;5;124m/\u001b[39m\u001b[38;5;132;01m{\u001b[39;00mepochs\u001b[38;5;132;01m}\u001b[39;00m\u001b[38;5;124m | Loss: \u001b[39m\u001b[38;5;132;01m{\u001b[39;00mval_loss\u001b[38;5;132;01m:\u001b[39;00m\u001b[38;5;124m.4f\u001b[39m\u001b[38;5;132;01m}\u001b[39;00m\u001b[38;5;124m | F1: \u001b[39m\u001b[38;5;132;01m{\u001b[39;00mval_f1\u001b[38;5;132;01m:\u001b[39;00m\u001b[38;5;124m.4f\u001b[39m\u001b[38;5;132;01m}\u001b[39;00m\u001b[38;5;124m\"\u001b[39m)\n",
      "File \u001b[0;32m~/Documents/BTL_ML/BTL/trainer/trainer.py:116\u001b[0m, in \u001b[0;36mtrainer.train\u001b[0;34m(self, model, dataloader, epoch, epochs, writer, criterion, optimizer, device, max_grad_norm, scheduler, grad_clip)\u001b[0m\n\u001b[1;32m    114\u001b[0m loss \u001b[38;5;241m=\u001b[39m criterion(outputs, labels)\n\u001b[1;32m    115\u001b[0m loss\u001b[38;5;241m.\u001b[39mbackward()\n\u001b[0;32m--> 116\u001b[0m total_loss\u001b[38;5;241m+\u001b[39m\u001b[38;5;241m=\u001b[39m\u001b[43mloss\u001b[49m\u001b[38;5;241;43m.\u001b[39;49m\u001b[43mitem\u001b[49m\u001b[43m(\u001b[49m\u001b[43m)\u001b[49m\n\u001b[1;32m    117\u001b[0m \u001b[38;5;28;01mif\u001b[39;00m grad_clip:\n\u001b[1;32m    118\u001b[0m     torch\u001b[38;5;241m.\u001b[39mnn\u001b[38;5;241m.\u001b[39mutils\u001b[38;5;241m.\u001b[39mclip_grad_norm_(parameters\u001b[38;5;241m=\u001b[39mmodel\u001b[38;5;241m.\u001b[39mparameters(), max_norm\u001b[38;5;241m=\u001b[39mmax_grad_norm)\n",
      "\u001b[0;31mKeyboardInterrupt\u001b[0m: "
     ]
    }
   ],
   "source": [
    "_trainer = trainer()\n",
    "best_f1 = 0\n",
    "for epoch in range(epochs):\n",
    "    _trainer.train(\n",
    "        RNN_model,\n",
    "        train_dataloader,\n",
    "        epoch,\n",
    "        epochs,\n",
    "        writer,\n",
    "        criterion,\n",
    "        optimizer,\n",
    "        device,\n",
    "        max_grad_norm,\n",
    "        scheduler,\n",
    "        grad_clip=True\n",
    "    )\n",
    "\n",
    "    val_loss, val_f1 = _trainer.validation(\n",
    "        RNN_model,\n",
    "        valid_dataloader,\n",
    "        criterion,\n",
    "        device\n",
    "    )\n",
    "    print(f\"TEST | Epoch: {epoch+1}/{epochs} | Loss: {val_loss:.4f} | F1: {val_f1:.4f}\")\n",
    "    writer.add_scalar('Val/Loss', val_loss, epoch+1)\n",
    "    writer.add_scalar('Val/F1', val_f1, epoch+1)\n",
    "    checkpoint = {\n",
    "        'model_state_dict': RNN_model.state_dict(),\n",
    "        'epoch': epoch+1,\n",
    "        'optimizer_state_dict': optimizer.state_dict()\n",
    "    }\n",
    "    os.makedirs('model_state_dict/RNN_dup', exist_ok=True)\n",
    "    torch.save(checkpoint, os.path.join('model_state_dict/RNN_dup', 'last.pth'))\n",
    "    if val_f1 > best_f1:\n",
    "        torch.save(checkpoint, os.path.join('model_state_dict/RNN_dup', 'best.pth'))\n",
    "        best_f1 = val_f1"
   ]
  },
  {
   "cell_type": "code",
   "execution_count": 90,
   "metadata": {},
   "outputs": [
    {
     "name": "stderr",
     "output_type": "stream",
     "text": [
      "/Users/nguyendat/miniconda3/lib/python3.11/site-packages/sklearn/metrics/_classification.py:1531: UndefinedMetricWarning: Precision is ill-defined and being set to 0.0 in labels with no predicted samples. Use `zero_division` parameter to control this behavior.\n",
      "  _warn_prf(average, modifier, f\"{metric.capitalize()} is\", len(result))\n"
     ]
    }
   ],
   "source": [
    "metrics = _trainer.evaluate_model(RNN_model, valid_dataloader, None, device)"
   ]
  },
  {
   "cell_type": "code",
   "execution_count": 91,
   "metadata": {},
   "outputs": [
    {
     "data": {
      "text/plain": [
       "(0.06876444631225047,\n",
       " 0.5326953207007578,\n",
       " 0.06876444631225047,\n",
       " 0.055350020289816476)"
      ]
     },
     "execution_count": 91,
     "metadata": {},
     "output_type": "execute_result"
    }
   ],
   "source": [
    "metrics['Accuracy'], metrics['precision'], metrics['recall'], metrics['f1']"
   ]
  },
  {
   "cell_type": "markdown",
   "metadata": {},
   "source": [
    "## GRU"
   ]
  },
  {
   "cell_type": "code",
   "execution_count": 87,
   "metadata": {},
   "outputs": [],
   "source": [
    "from build_model.gru import *"
   ]
  },
  {
   "cell_type": "code",
   "execution_count": 88,
   "metadata": {},
   "outputs": [
    {
     "name": "stderr",
     "output_type": "stream",
     "text": [
      "/Users/nguyendat/miniconda3/envs/base_2/lib/python3.11/site-packages/transformers/optimization.py:591: FutureWarning: This implementation of AdamW is deprecated and will be removed in a future version. Use the PyTorch implementation torch.optim.AdamW instead, or set `no_deprecation_warning=True` to disable this warning\n",
      "  warnings.warn(\n"
     ]
    }
   ],
   "source": [
    "gru_units = 512\n",
    "num_layers = 2\n",
    "dropout = 0.3\n",
    "output_dim = 5\n",
    "\n",
    "GRU_model = GRU(vocab_size=64001, \n",
    "                embedding_dim=768, \n",
    "                gru_units=gru_units, \n",
    "                num_layers=num_layers, \n",
    "                output_dim=output_dim, \n",
    "                dropout=dropout, \n",
    "                batch_normalization=True, \n",
    "                bidirectional=False).to(device)\n",
    "\n",
    "# Định nghĩa hàm mất mát và tối ưu hóa\n",
    "criterion = nn.CrossEntropyLoss(weight=normalized_weights, label_smoothing=0.05)  # Hàm mất mát cho phân loại đa lớp\n",
    "optimizer = AdamW(GRU_model.parameters(), lr=1e-3, eps = 1e-8)\n",
    "\n",
    "epochs = 20\n",
    "max_grad_norm = 1.0\n",
    "total_steps = len(train_dataloader) * epochs\n",
    "scheduler = get_linear_schedule_with_warmup(\n",
    "    optimizer,\n",
    "    num_warmup_steps=0,\n",
    "    num_training_steps=total_steps\n",
    ")\n",
    "\n",
    "grad_clip = True\n",
    "\n",
    "if os.path.exists('logs/GRU'):\n",
    "    shutil.rmtree('logs/GRU')\n",
    "writer = SummaryWriter(log_dir='logs/GRU')\n"
   ]
  },
  {
   "cell_type": "code",
   "execution_count": 58,
   "metadata": {},
   "outputs": [
    {
     "name": "stderr",
     "output_type": "stream",
     "text": [
      "TRAIN | Epoch: 1/20 | Iter: 2653/2653 | Error: 0/2653 | Loss: 0.0405: 100%|\u001b[38;2;128;0;128m█████████\u001b[0m| 2653/2653 [04:14<00:00, 10.41it/s]\u001b[0m\n"
     ]
    },
    {
     "name": "stdout",
     "output_type": "stream",
     "text": [
      "TEST | Epoch: 1/20 | Loss: 1.1826 | F1: 0.6642\n"
     ]
    },
    {
     "name": "stderr",
     "output_type": "stream",
     "text": [
      "TRAIN | Epoch: 2/20 | Iter: 2653/2653 | Error: 0/2653 | Loss: 0.0367: 100%|\u001b[38;2;128;0;128m█████████\u001b[0m| 2653/2653 [04:14<00:00, 10.42it/s]\u001b[0m\n"
     ]
    },
    {
     "name": "stdout",
     "output_type": "stream",
     "text": [
      "TEST | Epoch: 2/20 | Loss: 1.1245 | F1: 0.6966\n"
     ]
    },
    {
     "name": "stderr",
     "output_type": "stream",
     "text": [
      "TRAIN | Epoch: 3/20 | Iter: 2653/2653 | Error: 0/2653 | Loss: 0.0343: 100%|\u001b[38;2;128;0;128m█████████\u001b[0m| 2653/2653 [04:15<00:00, 10.39it/s]\u001b[0m\n"
     ]
    },
    {
     "name": "stdout",
     "output_type": "stream",
     "text": [
      "TEST | Epoch: 3/20 | Loss: 1.0915 | F1: 0.7123\n"
     ]
    },
    {
     "name": "stderr",
     "output_type": "stream",
     "text": [
      "TRAIN | Epoch: 4/20 | Iter: 2653/2653 | Error: 0/2653 | Loss: 0.0320: 100%|\u001b[38;2;128;0;128m█████████\u001b[0m| 2653/2653 [04:13<00:00, 10.47it/s]\u001b[0m\n"
     ]
    },
    {
     "name": "stdout",
     "output_type": "stream",
     "text": [
      "TEST | Epoch: 4/20 | Loss: 1.0443 | F1: 0.7524\n"
     ]
    },
    {
     "name": "stderr",
     "output_type": "stream",
     "text": [
      "TRAIN | Epoch: 5/20 | Iter: 2653/2653 | Error: 0/2653 | Loss: 0.0300: 100%|\u001b[38;2;128;0;128m█████████\u001b[0m| 2653/2653 [04:16<00:00, 10.36it/s]\u001b[0m\n"
     ]
    },
    {
     "name": "stdout",
     "output_type": "stream",
     "text": [
      "TEST | Epoch: 5/20 | Loss: 1.0067 | F1: 0.7681\n"
     ]
    },
    {
     "name": "stderr",
     "output_type": "stream",
     "text": [
      "TRAIN | Epoch: 6/20 | Iter: 2653/2653 | Error: 0/2653 | Loss: 0.0286: 100%|\u001b[38;2;128;0;128m█████████\u001b[0m| 2653/2653 [04:16<00:00, 10.35it/s]\u001b[0m\n"
     ]
    },
    {
     "name": "stdout",
     "output_type": "stream",
     "text": [
      "TEST | Epoch: 6/20 | Loss: 1.0091 | F1: 0.7631\n"
     ]
    },
    {
     "name": "stderr",
     "output_type": "stream",
     "text": [
      "TRAIN | Epoch: 7/20 | Iter: 2653/2653 | Error: 0/2653 | Loss: 0.0274: 100%|\u001b[38;2;128;0;128m█████████\u001b[0m| 2653/2653 [04:13<00:00, 10.45it/s]\u001b[0m\n"
     ]
    },
    {
     "name": "stdout",
     "output_type": "stream",
     "text": [
      "TEST | Epoch: 7/20 | Loss: 0.9958 | F1: 0.7791\n"
     ]
    },
    {
     "name": "stderr",
     "output_type": "stream",
     "text": [
      "TRAIN | Epoch: 8/20 | Iter: 2653/2653 | Error: 0/2653 | Loss: 0.0264: 100%|\u001b[38;2;128;0;128m█████████\u001b[0m| 2653/2653 [04:14<00:00, 10.44it/s]\u001b[0m\n"
     ]
    },
    {
     "name": "stdout",
     "output_type": "stream",
     "text": [
      "TEST | Epoch: 8/20 | Loss: 0.9673 | F1: 0.7756\n"
     ]
    },
    {
     "name": "stderr",
     "output_type": "stream",
     "text": [
      "TRAIN | Epoch: 9/20 | Iter: 2653/2653 | Error: 0/2653 | Loss: 0.0254: 100%|\u001b[38;2;128;0;128m█████████\u001b[0m| 2653/2653 [04:15<00:00, 10.38it/s]\u001b[0m\n"
     ]
    },
    {
     "name": "stdout",
     "output_type": "stream",
     "text": [
      "TEST | Epoch: 9/20 | Loss: 0.9648 | F1: 0.7925\n"
     ]
    },
    {
     "name": "stderr",
     "output_type": "stream",
     "text": [
      "TRAIN | Epoch: 10/20 | Iter: 2653/2653 | Error: 0/2653 | Loss: 0.0245: 100%|\u001b[38;2;128;0;128m████████\u001b[0m| 2653/2653 [04:15<00:00, 10.38it/s]\u001b[0m\n"
     ]
    },
    {
     "name": "stdout",
     "output_type": "stream",
     "text": [
      "TEST | Epoch: 10/20 | Loss: 0.9449 | F1: 0.8001\n"
     ]
    },
    {
     "name": "stderr",
     "output_type": "stream",
     "text": [
      "TRAIN | Epoch: 11/20 | Iter: 2653/2653 | Error: 0/2653 | Loss: 0.0238: 100%|\u001b[38;2;128;0;128m████████\u001b[0m| 2653/2653 [04:06<00:00, 10.75it/s]\u001b[0m\n"
     ]
    },
    {
     "name": "stdout",
     "output_type": "stream",
     "text": [
      "TEST | Epoch: 11/20 | Loss: 0.9412 | F1: 0.8001\n"
     ]
    },
    {
     "name": "stderr",
     "output_type": "stream",
     "text": [
      "TRAIN | Epoch: 12/20 | Iter: 889/2653 | Error: 0/2653 | Loss: 0.0228:  34%|\u001b[38;2;128;0;128m███▎      \u001b[0m| 889/2653 [05:06<10:07,  2.90it/s]\u001b[0m\n"
     ]
    },
    {
     "ename": "KeyboardInterrupt",
     "evalue": "",
     "output_type": "error",
     "traceback": [
      "\u001b[0;31m---------------------------------------------------------------------------\u001b[0m",
      "\u001b[0;31mKeyboardInterrupt\u001b[0m                         Traceback (most recent call last)",
      "Cell \u001b[0;32mIn[58], line 6\u001b[0m\n\u001b[1;32m      3\u001b[0m best_f1 \u001b[38;5;241m=\u001b[39m \u001b[38;5;241m0\u001b[39m\n\u001b[1;32m      5\u001b[0m \u001b[38;5;28;01mfor\u001b[39;00m epoch \u001b[38;5;129;01min\u001b[39;00m \u001b[38;5;28mrange\u001b[39m(epochs):\n\u001b[0;32m----> 6\u001b[0m     \u001b[43m_trainer\u001b[49m\u001b[38;5;241;43m.\u001b[39;49m\u001b[43mtrain\u001b[49m\u001b[43m(\u001b[49m\n\u001b[1;32m      7\u001b[0m \u001b[43m        \u001b[49m\u001b[43mGRU_model\u001b[49m\u001b[43m,\u001b[49m\n\u001b[1;32m      8\u001b[0m \u001b[43m        \u001b[49m\u001b[43mtrain_dataloader\u001b[49m\u001b[43m,\u001b[49m\n\u001b[1;32m      9\u001b[0m \u001b[43m        \u001b[49m\u001b[43mepoch\u001b[49m\u001b[43m,\u001b[49m\n\u001b[1;32m     10\u001b[0m \u001b[43m        \u001b[49m\u001b[43mepochs\u001b[49m\u001b[43m,\u001b[49m\n\u001b[1;32m     11\u001b[0m \u001b[43m        \u001b[49m\u001b[43mwriter\u001b[49m\u001b[43m,\u001b[49m\n\u001b[1;32m     12\u001b[0m \u001b[43m        \u001b[49m\u001b[43mcriterion\u001b[49m\u001b[43m,\u001b[49m\n\u001b[1;32m     13\u001b[0m \u001b[43m        \u001b[49m\u001b[43moptimizer\u001b[49m\u001b[43m,\u001b[49m\n\u001b[1;32m     14\u001b[0m \u001b[43m        \u001b[49m\u001b[43mdevice\u001b[49m\u001b[43m,\u001b[49m\n\u001b[1;32m     15\u001b[0m \u001b[43m        \u001b[49m\u001b[43mmax_grad_norm\u001b[49m\u001b[43m,\u001b[49m\n\u001b[1;32m     16\u001b[0m \u001b[43m        \u001b[49m\u001b[43mscheduler\u001b[49m\u001b[43m,\u001b[49m\n\u001b[1;32m     17\u001b[0m \u001b[43m        \u001b[49m\u001b[43mgrad_clip\u001b[49m\u001b[38;5;241;43m=\u001b[39;49m\u001b[43mgrad_clip\u001b[49m\n\u001b[1;32m     18\u001b[0m \u001b[43m    \u001b[49m\u001b[43m)\u001b[49m\n\u001b[1;32m     20\u001b[0m     val_loss, val_f1 \u001b[38;5;241m=\u001b[39m _trainer\u001b[38;5;241m.\u001b[39mvalidation(\n\u001b[1;32m     21\u001b[0m         GRU_model,\n\u001b[1;32m     22\u001b[0m         valid_dataloader,\n\u001b[1;32m     23\u001b[0m         criterion,\n\u001b[1;32m     24\u001b[0m         device\n\u001b[1;32m     25\u001b[0m     )\n\u001b[1;32m     26\u001b[0m     \u001b[38;5;28mprint\u001b[39m(\u001b[38;5;124mf\u001b[39m\u001b[38;5;124m\"\u001b[39m\u001b[38;5;124mTEST | Epoch: \u001b[39m\u001b[38;5;132;01m{\u001b[39;00mepoch\u001b[38;5;241m+\u001b[39m\u001b[38;5;241m1\u001b[39m\u001b[38;5;132;01m}\u001b[39;00m\u001b[38;5;124m/\u001b[39m\u001b[38;5;132;01m{\u001b[39;00mepochs\u001b[38;5;132;01m}\u001b[39;00m\u001b[38;5;124m | Loss: \u001b[39m\u001b[38;5;132;01m{\u001b[39;00mval_loss\u001b[38;5;132;01m:\u001b[39;00m\u001b[38;5;124m.4f\u001b[39m\u001b[38;5;132;01m}\u001b[39;00m\u001b[38;5;124m | F1: \u001b[39m\u001b[38;5;132;01m{\u001b[39;00mval_f1\u001b[38;5;132;01m:\u001b[39;00m\u001b[38;5;124m.4f\u001b[39m\u001b[38;5;132;01m}\u001b[39;00m\u001b[38;5;124m\"\u001b[39m)\n",
      "File \u001b[0;32m~/Documents/BTL_ML/BTL/trainer/trainer.py:113\u001b[0m, in \u001b[0;36mtrainer.train\u001b[0;34m(self, model, dataloader, epoch, epochs, writer, criterion, optimizer, device, max_grad_norm, scheduler, grad_clip)\u001b[0m\n\u001b[1;32m    111\u001b[0m inputs, labels \u001b[38;5;241m=\u001b[39m batch[\u001b[38;5;124m'\u001b[39m\u001b[38;5;124minput_ids\u001b[39m\u001b[38;5;124m'\u001b[39m]\u001b[38;5;241m.\u001b[39mto(device), batch[\u001b[38;5;124m'\u001b[39m\u001b[38;5;124mtargets\u001b[39m\u001b[38;5;124m'\u001b[39m]\u001b[38;5;241m.\u001b[39mto(device)\n\u001b[1;32m    112\u001b[0m optimizer\u001b[38;5;241m.\u001b[39mzero_grad()\n\u001b[0;32m--> 113\u001b[0m outputs \u001b[38;5;241m=\u001b[39m \u001b[43mmodel\u001b[49m\u001b[43m(\u001b[49m\u001b[43minputs\u001b[49m\u001b[43m)\u001b[49m\n\u001b[1;32m    114\u001b[0m loss \u001b[38;5;241m=\u001b[39m criterion(outputs, labels)\n\u001b[1;32m    115\u001b[0m loss\u001b[38;5;241m.\u001b[39mbackward()\n",
      "File \u001b[0;32m~/miniconda3/envs/base_2/lib/python3.11/site-packages/torch/nn/modules/module.py:1736\u001b[0m, in \u001b[0;36mModule._wrapped_call_impl\u001b[0;34m(self, *args, **kwargs)\u001b[0m\n\u001b[1;32m   1734\u001b[0m     \u001b[38;5;28;01mreturn\u001b[39;00m \u001b[38;5;28mself\u001b[39m\u001b[38;5;241m.\u001b[39m_compiled_call_impl(\u001b[38;5;241m*\u001b[39margs, \u001b[38;5;241m*\u001b[39m\u001b[38;5;241m*\u001b[39mkwargs)  \u001b[38;5;66;03m# type: ignore[misc]\u001b[39;00m\n\u001b[1;32m   1735\u001b[0m \u001b[38;5;28;01melse\u001b[39;00m:\n\u001b[0;32m-> 1736\u001b[0m     \u001b[38;5;28;01mreturn\u001b[39;00m \u001b[38;5;28;43mself\u001b[39;49m\u001b[38;5;241;43m.\u001b[39;49m\u001b[43m_call_impl\u001b[49m\u001b[43m(\u001b[49m\u001b[38;5;241;43m*\u001b[39;49m\u001b[43margs\u001b[49m\u001b[43m,\u001b[49m\u001b[43m \u001b[49m\u001b[38;5;241;43m*\u001b[39;49m\u001b[38;5;241;43m*\u001b[39;49m\u001b[43mkwargs\u001b[49m\u001b[43m)\u001b[49m\n",
      "File \u001b[0;32m~/miniconda3/envs/base_2/lib/python3.11/site-packages/torch/nn/modules/module.py:1747\u001b[0m, in \u001b[0;36mModule._call_impl\u001b[0;34m(self, *args, **kwargs)\u001b[0m\n\u001b[1;32m   1742\u001b[0m \u001b[38;5;66;03m# If we don't have any hooks, we want to skip the rest of the logic in\u001b[39;00m\n\u001b[1;32m   1743\u001b[0m \u001b[38;5;66;03m# this function, and just call forward.\u001b[39;00m\n\u001b[1;32m   1744\u001b[0m \u001b[38;5;28;01mif\u001b[39;00m \u001b[38;5;129;01mnot\u001b[39;00m (\u001b[38;5;28mself\u001b[39m\u001b[38;5;241m.\u001b[39m_backward_hooks \u001b[38;5;129;01mor\u001b[39;00m \u001b[38;5;28mself\u001b[39m\u001b[38;5;241m.\u001b[39m_backward_pre_hooks \u001b[38;5;129;01mor\u001b[39;00m \u001b[38;5;28mself\u001b[39m\u001b[38;5;241m.\u001b[39m_forward_hooks \u001b[38;5;129;01mor\u001b[39;00m \u001b[38;5;28mself\u001b[39m\u001b[38;5;241m.\u001b[39m_forward_pre_hooks\n\u001b[1;32m   1745\u001b[0m         \u001b[38;5;129;01mor\u001b[39;00m _global_backward_pre_hooks \u001b[38;5;129;01mor\u001b[39;00m _global_backward_hooks\n\u001b[1;32m   1746\u001b[0m         \u001b[38;5;129;01mor\u001b[39;00m _global_forward_hooks \u001b[38;5;129;01mor\u001b[39;00m _global_forward_pre_hooks):\n\u001b[0;32m-> 1747\u001b[0m     \u001b[38;5;28;01mreturn\u001b[39;00m \u001b[43mforward_call\u001b[49m\u001b[43m(\u001b[49m\u001b[38;5;241;43m*\u001b[39;49m\u001b[43margs\u001b[49m\u001b[43m,\u001b[49m\u001b[43m \u001b[49m\u001b[38;5;241;43m*\u001b[39;49m\u001b[38;5;241;43m*\u001b[39;49m\u001b[43mkwargs\u001b[49m\u001b[43m)\u001b[49m\n\u001b[1;32m   1749\u001b[0m result \u001b[38;5;241m=\u001b[39m \u001b[38;5;28;01mNone\u001b[39;00m\n\u001b[1;32m   1750\u001b[0m called_always_called_hooks \u001b[38;5;241m=\u001b[39m \u001b[38;5;28mset\u001b[39m()\n",
      "File \u001b[0;32m~/Documents/BTL_ML/BTL/build_model/gru.py:19\u001b[0m, in \u001b[0;36mGRU.forward\u001b[0;34m(self, x)\u001b[0m\n\u001b[1;32m     17\u001b[0m \u001b[38;5;28;01mdef\u001b[39;00m\u001b[38;5;250m \u001b[39m\u001b[38;5;21mforward\u001b[39m(\u001b[38;5;28mself\u001b[39m, x):\n\u001b[1;32m     18\u001b[0m \tx \u001b[38;5;241m=\u001b[39m \u001b[38;5;28mself\u001b[39m\u001b[38;5;241m.\u001b[39membedding(x)\n\u001b[0;32m---> 19\u001b[0m \tx, _ \u001b[38;5;241m=\u001b[39m \u001b[38;5;28;43mself\u001b[39;49m\u001b[38;5;241;43m.\u001b[39;49m\u001b[43mgru\u001b[49m\u001b[43m(\u001b[49m\u001b[43mx\u001b[49m\u001b[43m)\u001b[49m\n\u001b[1;32m     20\u001b[0m \t\u001b[38;5;66;03m# x = torch.mean(x, dim=1)\u001b[39;00m\n\u001b[1;32m     21\u001b[0m \tx\u001b[38;5;241m=\u001b[39m\u001b[38;5;28mself\u001b[39m\u001b[38;5;241m.\u001b[39mdense1(x[:, \u001b[38;5;241m-\u001b[39m\u001b[38;5;241m1\u001b[39m, :])\n",
      "File \u001b[0;32m~/miniconda3/envs/base_2/lib/python3.11/site-packages/torch/nn/modules/module.py:1736\u001b[0m, in \u001b[0;36mModule._wrapped_call_impl\u001b[0;34m(self, *args, **kwargs)\u001b[0m\n\u001b[1;32m   1734\u001b[0m     \u001b[38;5;28;01mreturn\u001b[39;00m \u001b[38;5;28mself\u001b[39m\u001b[38;5;241m.\u001b[39m_compiled_call_impl(\u001b[38;5;241m*\u001b[39margs, \u001b[38;5;241m*\u001b[39m\u001b[38;5;241m*\u001b[39mkwargs)  \u001b[38;5;66;03m# type: ignore[misc]\u001b[39;00m\n\u001b[1;32m   1735\u001b[0m \u001b[38;5;28;01melse\u001b[39;00m:\n\u001b[0;32m-> 1736\u001b[0m     \u001b[38;5;28;01mreturn\u001b[39;00m \u001b[38;5;28;43mself\u001b[39;49m\u001b[38;5;241;43m.\u001b[39;49m\u001b[43m_call_impl\u001b[49m\u001b[43m(\u001b[49m\u001b[38;5;241;43m*\u001b[39;49m\u001b[43margs\u001b[49m\u001b[43m,\u001b[49m\u001b[43m \u001b[49m\u001b[38;5;241;43m*\u001b[39;49m\u001b[38;5;241;43m*\u001b[39;49m\u001b[43mkwargs\u001b[49m\u001b[43m)\u001b[49m\n",
      "File \u001b[0;32m~/miniconda3/envs/base_2/lib/python3.11/site-packages/torch/nn/modules/module.py:1747\u001b[0m, in \u001b[0;36mModule._call_impl\u001b[0;34m(self, *args, **kwargs)\u001b[0m\n\u001b[1;32m   1742\u001b[0m \u001b[38;5;66;03m# If we don't have any hooks, we want to skip the rest of the logic in\u001b[39;00m\n\u001b[1;32m   1743\u001b[0m \u001b[38;5;66;03m# this function, and just call forward.\u001b[39;00m\n\u001b[1;32m   1744\u001b[0m \u001b[38;5;28;01mif\u001b[39;00m \u001b[38;5;129;01mnot\u001b[39;00m (\u001b[38;5;28mself\u001b[39m\u001b[38;5;241m.\u001b[39m_backward_hooks \u001b[38;5;129;01mor\u001b[39;00m \u001b[38;5;28mself\u001b[39m\u001b[38;5;241m.\u001b[39m_backward_pre_hooks \u001b[38;5;129;01mor\u001b[39;00m \u001b[38;5;28mself\u001b[39m\u001b[38;5;241m.\u001b[39m_forward_hooks \u001b[38;5;129;01mor\u001b[39;00m \u001b[38;5;28mself\u001b[39m\u001b[38;5;241m.\u001b[39m_forward_pre_hooks\n\u001b[1;32m   1745\u001b[0m         \u001b[38;5;129;01mor\u001b[39;00m _global_backward_pre_hooks \u001b[38;5;129;01mor\u001b[39;00m _global_backward_hooks\n\u001b[1;32m   1746\u001b[0m         \u001b[38;5;129;01mor\u001b[39;00m _global_forward_hooks \u001b[38;5;129;01mor\u001b[39;00m _global_forward_pre_hooks):\n\u001b[0;32m-> 1747\u001b[0m     \u001b[38;5;28;01mreturn\u001b[39;00m \u001b[43mforward_call\u001b[49m\u001b[43m(\u001b[49m\u001b[38;5;241;43m*\u001b[39;49m\u001b[43margs\u001b[49m\u001b[43m,\u001b[49m\u001b[43m \u001b[49m\u001b[38;5;241;43m*\u001b[39;49m\u001b[38;5;241;43m*\u001b[39;49m\u001b[43mkwargs\u001b[49m\u001b[43m)\u001b[49m\n\u001b[1;32m   1749\u001b[0m result \u001b[38;5;241m=\u001b[39m \u001b[38;5;28;01mNone\u001b[39;00m\n\u001b[1;32m   1750\u001b[0m called_always_called_hooks \u001b[38;5;241m=\u001b[39m \u001b[38;5;28mset\u001b[39m()\n",
      "File \u001b[0;32m~/miniconda3/envs/base_2/lib/python3.11/site-packages/torch/nn/modules/rnn.py:1392\u001b[0m, in \u001b[0;36mGRU.forward\u001b[0;34m(self, input, hx)\u001b[0m\n\u001b[1;32m   1390\u001b[0m \u001b[38;5;28mself\u001b[39m\u001b[38;5;241m.\u001b[39mcheck_forward_args(\u001b[38;5;28minput\u001b[39m, hx, batch_sizes)\n\u001b[1;32m   1391\u001b[0m \u001b[38;5;28;01mif\u001b[39;00m batch_sizes \u001b[38;5;129;01mis\u001b[39;00m \u001b[38;5;28;01mNone\u001b[39;00m:\n\u001b[0;32m-> 1392\u001b[0m     result \u001b[38;5;241m=\u001b[39m \u001b[43m_VF\u001b[49m\u001b[38;5;241;43m.\u001b[39;49m\u001b[43mgru\u001b[49m\u001b[43m(\u001b[49m\n\u001b[1;32m   1393\u001b[0m \u001b[43m        \u001b[49m\u001b[38;5;28;43minput\u001b[39;49m\u001b[43m,\u001b[49m\n\u001b[1;32m   1394\u001b[0m \u001b[43m        \u001b[49m\u001b[43mhx\u001b[49m\u001b[43m,\u001b[49m\n\u001b[1;32m   1395\u001b[0m \u001b[43m        \u001b[49m\u001b[38;5;28;43mself\u001b[39;49m\u001b[38;5;241;43m.\u001b[39;49m\u001b[43m_flat_weights\u001b[49m\u001b[43m,\u001b[49m\n\u001b[1;32m   1396\u001b[0m \u001b[43m        \u001b[49m\u001b[38;5;28;43mself\u001b[39;49m\u001b[38;5;241;43m.\u001b[39;49m\u001b[43mbias\u001b[49m\u001b[43m,\u001b[49m\n\u001b[1;32m   1397\u001b[0m \u001b[43m        \u001b[49m\u001b[38;5;28;43mself\u001b[39;49m\u001b[38;5;241;43m.\u001b[39;49m\u001b[43mnum_layers\u001b[49m\u001b[43m,\u001b[49m\n\u001b[1;32m   1398\u001b[0m \u001b[43m        \u001b[49m\u001b[38;5;28;43mself\u001b[39;49m\u001b[38;5;241;43m.\u001b[39;49m\u001b[43mdropout\u001b[49m\u001b[43m,\u001b[49m\n\u001b[1;32m   1399\u001b[0m \u001b[43m        \u001b[49m\u001b[38;5;28;43mself\u001b[39;49m\u001b[38;5;241;43m.\u001b[39;49m\u001b[43mtraining\u001b[49m\u001b[43m,\u001b[49m\n\u001b[1;32m   1400\u001b[0m \u001b[43m        \u001b[49m\u001b[38;5;28;43mself\u001b[39;49m\u001b[38;5;241;43m.\u001b[39;49m\u001b[43mbidirectional\u001b[49m\u001b[43m,\u001b[49m\n\u001b[1;32m   1401\u001b[0m \u001b[43m        \u001b[49m\u001b[38;5;28;43mself\u001b[39;49m\u001b[38;5;241;43m.\u001b[39;49m\u001b[43mbatch_first\u001b[49m\u001b[43m,\u001b[49m\n\u001b[1;32m   1402\u001b[0m \u001b[43m    \u001b[49m\u001b[43m)\u001b[49m\n\u001b[1;32m   1403\u001b[0m \u001b[38;5;28;01melse\u001b[39;00m:\n\u001b[1;32m   1404\u001b[0m     result \u001b[38;5;241m=\u001b[39m _VF\u001b[38;5;241m.\u001b[39mgru(\n\u001b[1;32m   1405\u001b[0m         \u001b[38;5;28minput\u001b[39m,\n\u001b[1;32m   1406\u001b[0m         batch_sizes,\n\u001b[0;32m   (...)\u001b[0m\n\u001b[1;32m   1413\u001b[0m         \u001b[38;5;28mself\u001b[39m\u001b[38;5;241m.\u001b[39mbidirectional,\n\u001b[1;32m   1414\u001b[0m     )\n",
      "\u001b[0;31mKeyboardInterrupt\u001b[0m: "
     ]
    }
   ],
   "source": [
    "from trainer.trainer import *\n",
    "_trainer = trainer()\n",
    "best_f1 = 0\n",
    "\n",
    "for epoch in range(epochs):\n",
    "    _trainer.train(\n",
    "        GRU_model,\n",
    "        train_dataloader,\n",
    "        epoch,\n",
    "        epochs,\n",
    "        writer,\n",
    "        criterion,\n",
    "        optimizer,\n",
    "        device,\n",
    "        max_grad_norm,\n",
    "        scheduler,\n",
    "        grad_clip=grad_clip\n",
    "    )\n",
    "\n",
    "    val_loss, val_f1 = _trainer.validation(\n",
    "        GRU_model,\n",
    "        valid_dataloader,\n",
    "        criterion,\n",
    "        device\n",
    "    )\n",
    "    print(f\"TEST | Epoch: {epoch+1}/{epochs} | Loss: {val_loss:.4f} | F1: {val_f1:.4f}\")\n",
    "    writer.add_scalar('Val/Loss', val_loss, epoch+1)\n",
    "    writer.add_scalar('Val/F1', val_f1, epoch+1)\n",
    "    checkpoint = {\n",
    "        'model_state_dict': GRU_model.state_dict(),\n",
    "        'epoch': epoch+1,\n",
    "        'optimizer_state_dict': optimizer.state_dict()\n",
    "    }\n",
    "    os.makedirs('model_state_dict/GRU', exist_ok=True)\n",
    "    torch.save(checkpoint, os.path.join('model_state_dict/GRU', 'last.pth'))\n",
    "    if val_f1 > best_f1:\n",
    "        torch.save(checkpoint, os.path.join('model_state_dict/GRU', 'best.pth'))\n",
    "        best_f1 = val_f1"
   ]
  },
  {
   "cell_type": "code",
   "execution_count": 90,
   "metadata": {},
   "outputs": [
    {
     "name": "stderr",
     "output_type": "stream",
     "text": [
      "/var/folders/kz/74mz5c7s0bj57yfdc183qm480000gn/T/ipykernel_12579/2977029950.py:1: FutureWarning: You are using `torch.load` with `weights_only=False` (the current default value), which uses the default pickle module implicitly. It is possible to construct malicious pickle data which will execute arbitrary code during unpickling (See https://github.com/pytorch/pytorch/blob/main/SECURITY.md#untrusted-models for more details). In a future release, the default value for `weights_only` will be flipped to `True`. This limits the functions that could be executed during unpickling. Arbitrary objects will no longer be allowed to be loaded via this mode unless they are explicitly allowlisted by the user via `torch.serialization.add_safe_globals`. We recommend you start setting `weights_only=True` for any use case where you don't have full control of the loaded file. Please open an issue on GitHub for any issues related to this experimental feature.\n",
      "  check_point_gru = torch.load('model_state_dict/GRU/gru_best.pth', map_location=device)\n"
     ]
    }
   ],
   "source": [
    "check_point_gru = torch.load('model_state_dict/GRU/gru_best.pth', map_location=device)"
   ]
  },
  {
   "cell_type": "code",
   "execution_count": 91,
   "metadata": {},
   "outputs": [
    {
     "data": {
      "text/plain": [
       "<All keys matched successfully>"
      ]
     },
     "execution_count": 91,
     "metadata": {},
     "output_type": "execute_result"
    }
   ],
   "source": [
    "GRU_model.load_state_dict(check_point_gru['model_state_dict'])"
   ]
  },
  {
   "cell_type": "code",
   "execution_count": 94,
   "metadata": {},
   "outputs": [],
   "source": [
    "metrics, metrics_macro = _trainer.evaluate_model(GRU_model, valid_dataloader, None, device)"
   ]
  },
  {
   "cell_type": "code",
   "execution_count": 95,
   "metadata": {},
   "outputs": [
    {
     "data": {
      "text/plain": [
       "(0.831141901126349, 0.8351840111668509, 0.831141901126349, 0.8329592617058731)"
      ]
     },
     "execution_count": 95,
     "metadata": {},
     "output_type": "execute_result"
    }
   ],
   "source": [
    "metrics['Accuracy'], metrics['precision'], metrics['recall'], metrics['f1']"
   ]
  },
  {
   "cell_type": "code",
   "execution_count": 96,
   "metadata": {},
   "outputs": [
    {
     "data": {
      "text/plain": [
       "(0.831141901126349, 0.752927932027668, 0.7634990726913011, 0.7580337225885566)"
      ]
     },
     "execution_count": 96,
     "metadata": {},
     "output_type": "execute_result"
    }
   ],
   "source": [
    "metrics_macro['Accuracy'], metrics_macro['precision'], metrics_macro['recall'], metrics_macro['f1']"
   ]
  },
  {
   "cell_type": "markdown",
   "metadata": {},
   "source": [
    "## PhoBert"
   ]
  },
  {
   "cell_type": "code",
   "execution_count": 55,
   "metadata": {},
   "outputs": [],
   "source": [
    "from trainer.trainer_bert import *\n",
    "from build_model.phobert import *"
   ]
  },
  {
   "cell_type": "code",
   "execution_count": 56,
   "metadata": {},
   "outputs": [],
   "source": [
    "device = \"mps\" if torch.backends.mps.is_available() else \"cpu\""
   ]
  },
  {
   "cell_type": "code",
   "execution_count": null,
   "metadata": {},
   "outputs": [
    {
     "name": "stderr",
     "output_type": "stream",
     "text": [
      "/Users/nguyendat/miniconda3/envs/base_2/lib/python3.11/site-packages/transformers/optimization.py:591: FutureWarning: This implementation of AdamW is deprecated and will be removed in a future version. Use the PyTorch implementation torch.optim.AdamW instead, or set `no_deprecation_warning=True` to disable this warning\n",
      "  warnings.warn(\n"
     ]
    }
   ],
   "source": [
    "phobert_model = BertClassifier(dropout=0.5).to(device)\n",
    "\n",
    "# Định nghĩa hàm mất mát và tối ưu hóa\n",
    "criterion =  nn.CrossEntropyLoss(weight=normalized_weights, label_smoothing=0.05)\n",
    "optimizer = AdamW(phobert_model.parameters(), lr=3e-5, eps = 1e-8)\n",
    "\n",
    "epochs = 50\n",
    "\n",
    "max_grad_norm = 1.0\n",
    "total_steps = len(train_dataloader) * epochs\n",
    "scheduler = get_linear_schedule_with_warmup(\n",
    "    optimizer,\n",
    "    num_warmup_steps=0,\n",
    "    num_training_steps=total_steps\n",
    ")\n",
    "\n",
    "grad_clip = True\n",
    "\n",
    "if os.path.exists('logs/phobert'):\n",
    "    shutil.rmtree('logs/phobert')\n",
    "writer = SummaryWriter(log_dir='logs/phobert')\n",
    "_trainer = trainer()"
   ]
  },
  {
   "cell_type": "code",
   "execution_count": 40,
   "metadata": {},
   "outputs": [
    {
     "name": "stderr",
     "output_type": "stream",
     "text": [
      "TRAIN | Epoch: 1/10 | Loss: 0.0529: 100%|\u001b[38;2;128;0;128m███████████████████████████████████████████\u001b[0m| 2380/2380 [08:04<00:00,  4.91it/s]\u001b[0m\n",
      "VAL | Epoch: 1/10 | Loss: 0.0516: 100%|\u001b[38;2;128;0;128m███████████████████████████████████████████████\u001b[0m| 595/595 [00:34<00:00, 17.06it/s]\u001b[0m\n"
     ]
    },
    {
     "name": "stdout",
     "output_type": "stream",
     "text": [
      "TEST | Epoch: 1/10 | Loss: 1.6519 | F1: 0.4421\n"
     ]
    },
    {
     "name": "stderr",
     "output_type": "stream",
     "text": [
      "TRAIN | Epoch: 2/10 | Loss: 0.0505:   2%|\u001b[38;2;128;0;128m▉                                            \u001b[0m| 47/2380 [00:09<08:06,  4.80it/s]\u001b[0m\n"
     ]
    },
    {
     "ename": "KeyboardInterrupt",
     "evalue": "",
     "output_type": "error",
     "traceback": [
      "\u001b[0;31m---------------------------------------------------------------------------\u001b[0m",
      "\u001b[0;31mKeyboardInterrupt\u001b[0m                         Traceback (most recent call last)",
      "Cell \u001b[0;32mIn[40], line 4\u001b[0m\n\u001b[1;32m      2\u001b[0m best_f1 \u001b[38;5;241m=\u001b[39m \u001b[38;5;241m0\u001b[39m\n\u001b[1;32m      3\u001b[0m \u001b[38;5;28;01mfor\u001b[39;00m epoch \u001b[38;5;129;01min\u001b[39;00m \u001b[38;5;28mrange\u001b[39m(epochs):\n\u001b[0;32m----> 4\u001b[0m     \u001b[43m_trainer\u001b[49m\u001b[38;5;241;43m.\u001b[39;49m\u001b[43mtrain\u001b[49m\u001b[43m(\u001b[49m\n\u001b[1;32m      5\u001b[0m \u001b[43m        \u001b[49m\u001b[43mphobert_model\u001b[49m\u001b[43m,\u001b[49m\n\u001b[1;32m      6\u001b[0m \u001b[43m        \u001b[49m\u001b[43mtrain_dataloader\u001b[49m\u001b[43m,\u001b[49m\n\u001b[1;32m      7\u001b[0m \u001b[43m        \u001b[49m\u001b[43mepoch\u001b[49m\u001b[43m,\u001b[49m\n\u001b[1;32m      8\u001b[0m \u001b[43m        \u001b[49m\u001b[43mepochs\u001b[49m\u001b[43m,\u001b[49m\n\u001b[1;32m      9\u001b[0m \u001b[43m        \u001b[49m\u001b[43mwriter\u001b[49m\u001b[43m,\u001b[49m\n\u001b[1;32m     10\u001b[0m \u001b[43m        \u001b[49m\u001b[43mcriterion\u001b[49m\u001b[43m,\u001b[49m\n\u001b[1;32m     11\u001b[0m \u001b[43m        \u001b[49m\u001b[43moptimizer\u001b[49m\u001b[43m,\u001b[49m\n\u001b[1;32m     12\u001b[0m \u001b[43m        \u001b[49m\u001b[43mscheduler\u001b[49m\u001b[43m,\u001b[49m\n\u001b[1;32m     13\u001b[0m \u001b[43m        \u001b[49m\u001b[43mdevice\u001b[49m\u001b[43m,\u001b[49m\n\u001b[1;32m     14\u001b[0m \u001b[43m        \u001b[49m\u001b[43mmax_grad_norm\u001b[49m\u001b[43m,\u001b[49m\n\u001b[1;32m     15\u001b[0m \u001b[43m        \u001b[49m\u001b[43mgrad_clip\u001b[49m\n\u001b[1;32m     16\u001b[0m \u001b[43m    \u001b[49m\u001b[43m)\u001b[49m\n\u001b[1;32m     17\u001b[0m     val_loss, val_f1 \u001b[38;5;241m=\u001b[39m _trainer\u001b[38;5;241m.\u001b[39mvalidation(\n\u001b[1;32m     18\u001b[0m         phobert_model,\n\u001b[1;32m     19\u001b[0m         valid_dataloader, \n\u001b[0;32m   (...)\u001b[0m\n\u001b[1;32m     23\u001b[0m         epochs\n\u001b[1;32m     24\u001b[0m     )\n\u001b[1;32m     26\u001b[0m     \u001b[38;5;28mprint\u001b[39m(\u001b[38;5;124mf\u001b[39m\u001b[38;5;124m\"\u001b[39m\u001b[38;5;124mTEST | Epoch: \u001b[39m\u001b[38;5;132;01m{\u001b[39;00mepoch\u001b[38;5;241m+\u001b[39m\u001b[38;5;241m1\u001b[39m\u001b[38;5;132;01m}\u001b[39;00m\u001b[38;5;124m/\u001b[39m\u001b[38;5;132;01m{\u001b[39;00mepochs\u001b[38;5;132;01m}\u001b[39;00m\u001b[38;5;124m | Loss: \u001b[39m\u001b[38;5;132;01m{\u001b[39;00mval_loss\u001b[38;5;132;01m:\u001b[39;00m\u001b[38;5;124m.4f\u001b[39m\u001b[38;5;132;01m}\u001b[39;00m\u001b[38;5;124m | F1: \u001b[39m\u001b[38;5;132;01m{\u001b[39;00mval_f1\u001b[38;5;132;01m:\u001b[39;00m\u001b[38;5;124m.4f\u001b[39m\u001b[38;5;132;01m}\u001b[39;00m\u001b[38;5;124m\"\u001b[39m)\n",
      "File \u001b[0;32m~/Documents/BTL_ML-2/BTL/trainer/trainer_bert.py:72\u001b[0m, in \u001b[0;36mtrainer.train\u001b[0;34m(self, model, dataloader, epoch, epochs, writer, criterion, optimizer, scheduler, device, max_grad_norm, grad_clip)\u001b[0m\n\u001b[1;32m     70\u001b[0m loss \u001b[38;5;241m=\u001b[39m criterion(outputs, b_labels)\n\u001b[1;32m     71\u001b[0m loss\u001b[38;5;241m.\u001b[39mbackward()\n\u001b[0;32m---> 72\u001b[0m total_loss\u001b[38;5;241m+\u001b[39m\u001b[38;5;241m=\u001b[39m\u001b[43mloss\u001b[49m\u001b[38;5;241;43m.\u001b[39;49m\u001b[43mitem\u001b[49m\u001b[43m(\u001b[49m\u001b[43m)\u001b[49m\n\u001b[1;32m     73\u001b[0m \u001b[38;5;28;01mif\u001b[39;00m grad_clip:\n\u001b[1;32m     74\u001b[0m     torch\u001b[38;5;241m.\u001b[39mnn\u001b[38;5;241m.\u001b[39mutils\u001b[38;5;241m.\u001b[39mclip_grad_norm_(parameters\u001b[38;5;241m=\u001b[39mmodel\u001b[38;5;241m.\u001b[39mparameters(), max_norm\u001b[38;5;241m=\u001b[39mmax_grad_norm)\n",
      "\u001b[0;31mKeyboardInterrupt\u001b[0m: "
     ]
    }
   ],
   "source": [
    "best_f1 = 0\n",
    "for epoch in range(epochs):\n",
    "    _trainer.train(\n",
    "        phobert_model,\n",
    "        train_dataloader,\n",
    "        epoch,\n",
    "        epochs,\n",
    "        writer,\n",
    "        criterion,\n",
    "        optimizer,\n",
    "        scheduler,\n",
    "        device,\n",
    "        max_grad_norm,\n",
    "        grad_clip\n",
    "    )\n",
    "    val_loss, val_f1 = _trainer.validation(\n",
    "        phobert_model,\n",
    "        valid_dataloader, \n",
    "        criterion,\n",
    "        device,\n",
    "        epoch,\n",
    "        epochs\n",
    "    )\n",
    "    print(f\"TEST | Epoch: {epoch+1}/{epochs} | Loss: {val_loss:.4f} | F1: {val_f1:.4f}\")\n",
    "    writer.add_scalar('Val/Loss', val_loss, epoch+1)\n",
    "    writer.add_scalar('Val/F1', val_f1, epoch+1)\n",
    "    checkpoint = {\n",
    "        'model_state_dict': phobert_model.state_dict(),\n",
    "        'epoch': epoch+1,\n",
    "        'optimizer_state_dict': optimizer.state_dict()\n",
    "    }\n",
    "    os.makedirs('model_state_dict/phobert', exist_ok=True)\n",
    "    torch.save(checkpoint, os.path.join('model_state_dict/phobert', 'last.pth'))\n",
    "    if val_f1 > best_f1:\n",
    "        torch.save(checkpoint, os.path.join('model_state_dict/phobert', 'best.pth'))\n",
    "        best_f1 = val_f1"
   ]
  },
  {
   "cell_type": "code",
   "execution_count": 59,
   "metadata": {},
   "outputs": [
    {
     "name": "stderr",
     "output_type": "stream",
     "text": [
      "/var/folders/kz/74mz5c7s0bj57yfdc183qm480000gn/T/ipykernel_10774/2892398841.py:1: FutureWarning: You are using `torch.load` with `weights_only=False` (the current default value), which uses the default pickle module implicitly. It is possible to construct malicious pickle data which will execute arbitrary code during unpickling (See https://github.com/pytorch/pytorch/blob/main/SECURITY.md#untrusted-models for more details). In a future release, the default value for `weights_only` will be flipped to `True`. This limits the functions that could be executed during unpickling. Arbitrary objects will no longer be allowed to be loaded via this mode unless they are explicitly allowlisted by the user via `torch.serialization.add_safe_globals`. We recommend you start setting `weights_only=True` for any use case where you don't have full control of the loaded file. Please open an issue on GitHub for any issues related to this experimental feature.\n",
      "  check_point_phobert = torch.load('model_state_dict/PhoBert/phobert_best.pth', map_location=device)\n"
     ]
    }
   ],
   "source": [
    "check_point_phobert = torch.load('model_state_dict/PhoBert/phobert_best.pth', map_location=device)"
   ]
  },
  {
   "cell_type": "code",
   "execution_count": 60,
   "metadata": {},
   "outputs": [
    {
     "data": {
      "text/plain": [
       "<All keys matched successfully>"
      ]
     },
     "execution_count": 60,
     "metadata": {},
     "output_type": "execute_result"
    }
   ],
   "source": [
    "phobert_model.load_state_dict(check_point_phobert['model_state_dict'])"
   ]
  },
  {
   "cell_type": "code",
   "execution_count": 62,
   "metadata": {},
   "outputs": [
    {
     "data": {
      "text/plain": [
       "(0.8858098873650974, 0.885049330733708, 0.8858098873650974, 0.8852346881055579)"
      ]
     },
     "execution_count": 62,
     "metadata": {},
     "output_type": "execute_result"
    }
   ],
   "source": [
    "metrics, metrics_macro = _trainer.evaluate_model(phobert_model, valid_dataloader, None, device)\n",
    "metrics['Accuracy'], metrics['precision'], metrics['recall'], metrics['f1']"
   ]
  },
  {
   "cell_type": "code",
   "execution_count": null,
   "metadata": {},
   "outputs": [],
   "source": [
    "metrics_macro['Accuracy'], metrics_macro['precision'], metrics_macro['recall'], metrics_macro['f1']"
   ]
  }
 ],
 "metadata": {
  "kernelspec": {
   "display_name": "base_2",
   "language": "python",
   "name": "python3"
  },
  "language_info": {
   "codemirror_mode": {
    "name": "ipython",
    "version": 3
   },
   "file_extension": ".py",
   "mimetype": "text/x-python",
   "name": "python",
   "nbconvert_exporter": "python",
   "pygments_lexer": "ipython3",
   "version": "3.11.9"
  }
 },
 "nbformat": 4,
 "nbformat_minor": 2
}
